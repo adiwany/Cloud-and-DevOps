{
 "cells": [
  {
   "cell_type": "markdown",
   "source": [
    "# FastAPI"
   ],
   "metadata": {}
  },
  {
   "cell_type": "markdown",
   "source": [
    "FastAPI is a library that allows you to create web frameworks very easily. It takes advantage of the modern features of Python to make the code easy to implement and to read. \n",
    "\n",
    "\n",
    "> ## FastAPI is a library to create web APIs quick and efficiently\n",
    "\n",
    "Some advantages about using FastAPI with respect to other web frameworks is that:\n",
    "\n",
    "1. __It is intentionally easy to use__: The code structure and its encapsulation make it very intuitive to find the methods you are looking for in no time\n",
    "2. __Fast to code__: FastAPI integrates all the hard work for you, simply add the type of request to be expected, and the response according to said request.\n",
    "3. __It uses both OpenAPI and JSON__: This way, not only your browser will be able to display the data nicely, but also, the user will be able to retrieve the data efficiently.\n",
    "4. __Queries are much easier to format__: Remember that lesson about type hinting? This is where it comes in extremely handy. By default your queries will have `str` format, but if you give a specific type hint in your functions, the input will be casted to that type\n",
    "5. __It was asynchroniusly__: You don't have to make the changes effectively as you make changes to your API. FastAPI works in a ASGI framework that allows you to visualize changes before being deployed. \n",
    "6. __It integrates Dataclasses__: As you remember, these decorators are very convenient when defining classes, which will make your application much easier to be up and running\n",
    "7. __It integrates pytest__: Your functions can be easily tested before being deployed.\n",
    "\n",
    "FastAPI is relatively new (compared to Flask or Django for example), but it is increasing at a higher pace than its counterparts. You might also want to check other libraries such as Tornado or Hug to create applications. However, due to its power and simplicity, we are going to focus on FastAPI."
   ],
   "metadata": {}
  },
  {
   "cell_type": "markdown",
   "source": [
    "In this lesson we will create small APIs in Python, we will start creating a really small app, with almost no functionality, and once you get comfortable with the library, we will start creating APIs where you can even deploy a ML model."
   ],
   "metadata": {}
  },
  {
   "cell_type": "markdown",
   "source": [
    "## Installation"
   ],
   "metadata": {}
  },
  {
   "cell_type": "markdown",
   "source": [
    "As with many other projects, we encourage you to create a new virtual environment. Remember that can eventually be used by other users, so as you keep integrating libraries, it would a good idea to include them in a `requirements.txt`.\n",
    "\n",
    "In my case, I simply created a new venv called fastapi, where the first thing I installed was `pip`. We are going to use FastApi, so the second library to be installed is `fastapi`. We need to run our api in a server, so the third library to be installed will be `uvicorn`"
   ],
   "metadata": {}
  },
  {
   "cell_type": "markdown",
   "source": [
    "Down, you can see the steps you should take to start this lesson. You can open your terminal and run each of them in another directory, or you can simply run the cell to work in this directory."
   ],
   "metadata": {}
  },
  {
   "cell_type": "code",
   "execution_count": null,
   "source": [
    "%%bash\r\n",
    "conda create --name fastapi\r\n",
    "conda activate fastapi\r\n",
    "conda install pip\r\n",
    "pip install fastapi\r\n",
    "echo 'fastapi' > requirements.txt\r\n",
    "pip install uvicorn\r\n",
    "echo 'uvicorn' >> requirements.txt"
   ],
   "outputs": [],
   "metadata": {}
  },
  {
   "cell_type": "markdown",
   "source": [
    "# Your first API"
   ],
   "metadata": {}
  },
  {
   "cell_type": "markdown",
   "source": [
    "Creating an API using FastAPI is incredibly easy, simply use a decorator on a function that will be ran in your application, and that's it:"
   ],
   "metadata": {}
  },
  {
   "cell_type": "code",
   "execution_count": 1,
   "source": [
    "import fastapi\r\n",
    "import uvicorn"
   ],
   "outputs": [],
   "metadata": {}
  },
  {
   "cell_type": "markdown",
   "source": [
    "The necessary libraries have been imported. Now, we can simply create a FastAPI instance, which will contain the decorators we need to create the API. In this case, we are going to use the `get` method, creating a `GET` request. We will eventually see how to use other common requests, such as `POST`, `DELETE` or `PUT`."
   ],
   "metadata": {}
  },
  {
   "cell_type": "markdown",
   "source": [
    "As a reminder, the structure of the address of an API is as follow:\n",
    "```\n",
    "REQUEST = <ROOT_URL>/<Path>?<Query Parameters>\n",
    "```"
   ],
   "metadata": {}
  },
  {
   "cell_type": "markdown",
   "source": [
    "Inside the `Query Parameters`, the parameters are separated by ampersand symbols (`&`). You have one example below:\n",
    "\n",
    "<div style=\"text-align:center\"><img src=\"images/API_Structure.png\" width=600/></div>\n"
   ],
   "metadata": {}
  },
  {
   "cell_type": "markdown",
   "source": [
    "So, with that said, let's create a really small (and probably useless) API. The first thing will be creating a FastAPI instance, which we will eventually use to decorate a function that will be reflected in the application.\n",
    "\n",
    "The decorator should include the `Path` that will 'execute' the decorated function"
   ],
   "metadata": {}
  },
  {
   "cell_type": "markdown",
   "source": [
    "_Remember that uvicorn can't be ran from a notebook. Copy and paste the following cell in a new script, or convert the following cell into a python3 cell by using %%python3 at the beginning, however, this is not recommended, because while launching uvicorn, you will be unable to run the rest of the notebook_\r\n",
    "\r\n",
    "_My advice is to create a new file and add new features as we keep progressing in the notebook_"
   ],
   "metadata": {}
  },
  {
   "cell_type": "code",
   "execution_count": 6,
   "source": [
    "%%python3\r\n",
    "import fastapi\r\n",
    "import uvicorn\r\n",
    "api = fastapi.FastAPI() \r\n",
    " \r\n",
    "# The endpoint will be our localhost (127.0.0.1)\r\n",
    "# and the port that will be listening will be 8000\r\n",
    "# The path is '/test/calculate', but you can the path you want\r\n",
    "# Just make sure you use the same in your browser to chck the results\r\n",
    "\r\n",
    "@api.get('/test/calculate')\r\n",
    "def calculate():\r\n",
    "    return 2 + 2\r\n",
    "\r\n",
    "uvicorn.run(api, port=8000, host='127.0.0.1')"
   ],
   "outputs": [
    {
     "output_type": "stream",
     "name": "stdout",
     "text": [
      "Process is interrupted.\n"
     ]
    }
   ],
   "metadata": {}
  },
  {
   "cell_type": "markdown",
   "source": [
    "After running the script, you can check what the API is retrieving when we visit that path (`/test/calculate`). Do this by opening [127.0.0.1:8000/test/calculate](127.0.0.1:8000/test/calculate) on your browser. You should see something like this (depending on the browser):\r\n",
    "\r\n",
    "<div style=\"text-align:center\"><img src=\"images/FastAPI_1.png\" width=600/></div>\r\n",
    "\r\n"
   ],
   "metadata": {}
  },
  {
   "cell_type": "markdown",
   "source": [
    "Right now, this is quite useless... Our API will simply return a simple number, and that's it... Let's spice things up adding some query parameters. You can add them simply adding arguments to the decorated function:"
   ],
   "metadata": {}
  },
  {
   "cell_type": "code",
   "execution_count": null,
   "source": [
    "%%python3\r\n",
    "import fastapi\r\n",
    "import uvicorn\r\n",
    "api = fastapi.FastAPI() \r\n",
    " \r\n",
    "# The endpoint will be our localhost (127.0.0.1)\r\n",
    "# and the port that will be listening will be 8000\r\n",
    "# The path is '/test/calculate', but you can the path you want\r\n",
    "# Just make sure you use the same in your browser to chck the results\r\n",
    "\r\n",
    "@api.get('/test/calculate')\r\n",
    "def calculate(x, y):\r\n",
    "    return x + y\r\n",
    "\r\n",
    "uvicorn.run(api, port=8000, host='127.0.0.1')"
   ],
   "outputs": [],
   "metadata": {}
  },
  {
   "cell_type": "markdown",
   "source": [
    "If you visit [127.0.0.1:8000/test/calculate](127.0.0.1:8000/test/calculate) again, now your API will complain about not having enough arguments:\r\n",
    "\r\n",
    "<div style=\"text-align:center\"><img src=\"images/FastAPI_2.png\" width=600/></div>"
   ],
   "metadata": {}
  },
  {
   "cell_type": "markdown",
   "source": [
    "As mentioned, `x` and `y` are parameters and we need to pass them as if we were running a function. We can set them as default values and/or pass them to the URL in the form of a query:\r\n",
    "\r\n",
    "<div style=\"text-align:center\"><img src=\"images/FastAPI_3.png\" width=400/></div>"
   ],
   "metadata": {}
  },
  {
   "cell_type": "markdown",
   "source": [
    "Observe that, at the end of the path, we added an interrogation mark, and after that we give values to the arguments. Looks good!... But wait, 1 + 5 is not 15! By default the parameters of the query are read as strings. You can use type hinting to change the default type of your parameters"
   ],
   "metadata": {}
  },
  {
   "cell_type": "code",
   "execution_count": null,
   "source": [
    "import fastapi\r\n",
    "import uvicorn\r\n",
    "api = fastapi.FastAPI() \r\n",
    " \r\n",
    "@api.get('/test/calculate')\r\n",
    "def calculate(x: int, y: int):\r\n",
    "    return x + y\r\n",
    "\r\n",
    "uvicorn.run(api, port=8000, host='127.0.0.1')"
   ],
   "outputs": [],
   "metadata": {}
  },
  {
   "cell_type": "markdown",
   "source": [
    "Great, that one thing is solved, but if you think about it, this is nothing else that giving your function a framework. Let's add responses characteristic of an API. Let's say that instead of adding them, we are going to divide `x` by `y` "
   ],
   "metadata": {}
  },
  {
   "cell_type": "code",
   "execution_count": null,
   "source": [
    "import fastapi\r\n",
    "import uvicorn\r\n",
    "api = fastapi.FastAPI() \r\n",
    " \r\n",
    "@api.get('/test/calculate')\r\n",
    "def calculate(x: int, y: int):\r\n",
    "    return x / y\r\n",
    "\r\n",
    "uvicorn.run(api, port=8000, host='127.0.0.1')"
   ],
   "outputs": [],
   "metadata": {}
  },
  {
   "cell_type": "markdown",
   "source": [
    "it will work fine, but try to use `y=0`... You will see Error: 500 `Internal Server Error`\r\n",
    "\r\n",
    "<div style=\"text-align:center\"><img src=\"images/FastAPI_4.png\" width=400/></div>"
   ],
   "metadata": {}
  },
  {
   "cell_type": "markdown",
   "source": [
    "Well, yes, the error comes from the code, but it doesn't tell the user much about the issue. We need to let them know what happened. Thus, we could send a 400 Error: `Bad Request`, meaning that the given parameters are not valid, and additionally, we could add a message. All of this will be encapsulated in the Response class from the fastapi library"
   ],
   "metadata": {}
  },
  {
   "cell_type": "code",
   "execution_count": null,
   "source": [
    "import fastapi\r\n",
    "import uvicorn\r\n",
    "api = fastapi.FastAPI() \r\n",
    " \r\n",
    "@api.get('/test/calculate')\r\n",
    "def calculate(x: int, y: int):\r\n",
    "    if y == 0:\r\n",
    "        return fastapi.Response(content='y cannot be zero', status_code=400)\r\n",
    "    return x / y\r\n",
    "\r\n",
    "uvicorn.run(api, port=8000, host='127.0.0.1')"
   ],
   "outputs": [],
   "metadata": {}
  },
  {
   "cell_type": "markdown",
   "source": [
    "One more thing you can add to Response is the data type to be returned. In many cases, APIs will return a JSON file, so we can specify the error to return the response in a JSON format."
   ],
   "metadata": {}
  },
  {
   "cell_type": "code",
   "execution_count": null,
   "source": [
    "import fastapi\r\n",
    "import uvicorn\r\n",
    "api = fastapi.FastAPI() \r\n",
    " \r\n",
    "@api.get('/test/calculate')\r\n",
    "def calculate(x: int, y: int):\r\n",
    "    if y == 0:\r\n",
    "        return fastapi.Response(content='{\"error\" : \"y cannot be zero\"}',\r\n",
    "                                media_type='application/json',\r\n",
    "                                status_code=400)\r\n",
    "\r\n",
    "        # return fastapi.responses.JSONResponse(content={\"error\" : \"y cannot be zero\"},\r\n",
    "        #                                       status_code=400)\r\n",
    "    return x / y\r\n",
    "\r\n",
    "uvicorn.run(api, port=8000, host='127.0.0.1')"
   ],
   "outputs": [],
   "metadata": {}
  },
  {
   "cell_type": "markdown",
   "source": [
    "Now, your response will be stored in a Json format, so when the user is requesting the data you can maintain consistency regardless of having an error or not\r\n",
    "\r\n",
    "<div style=\"text-align:center\"><img src=\"images/FastAPI_5.png\" width=400/></div>\r\n",
    "\r\n",
    "To finish off this first API, let's add a main page to it. Observe that, whenever you connect to the API, it doesn't work until you specify the path (`test/calculate`). What if we want to see the front page? We can simply define a new function that will set a new page for our api.\r\n",
    "\r\n",
    "Inside the function, we are going to add the HTML body, and when we are ready, we can return a fastapi.response.HTMLResponse class. Here we provide a really small example, but you can use your HTML knowledge to play aroung with the main page:"
   ],
   "metadata": {}
  },
  {
   "cell_type": "code",
   "execution_count": null,
   "source": [
    "import fastapi\r\n",
    "import uvicorn\r\n",
    "api = fastapi.FastAPI() \r\n",
    "\r\n",
    "@api.get('/')\r\n",
    "def index():\r\n",
    "    body = \"<html>\" \\\r\n",
    "           \"<body style='padding: 10px;'>\" \\\r\n",
    "           \"<h1>Welcome to the API</h1>\" \\\r\n",
    "           \"<div>\" \\\r\n",
    "           \"Try it: <a href='/test/calculate?x=7&y=11'>/api/calculate?x=7&y=11</a>\" \\\r\n",
    "           \"</div>\" \\\r\n",
    "           \"</body>\" \\\r\n",
    "           \"</html>\"\r\n",
    "           \r\n",
    "    return fastapi.responses.HTMLResponse(content=body)\r\n",
    "@api.get('/test/calculate')\r\n",
    "def calculate(x: int, y: int):\r\n",
    "    if y == 0:\r\n",
    "        return fastapi.Response(content='{\"error\" : \"y cannot be zero\"}',\r\n",
    "                                media_type='application/json',\r\n",
    "                                status_code=400)\r\n",
    "\r\n",
    "        # return fastapi.responses.JSONResponse(content={\"error\" : \"y cannot be zero\"},\r\n",
    "        #                                       status_code=400)\r\n",
    "    return x / y\r\n",
    "\r\n",
    "uvicorn.run(api, port=8000, host='127.0.0.1')"
   ],
   "outputs": [],
   "metadata": {}
  },
  {
   "cell_type": "markdown",
   "source": [
    "Now, whenever we visit [http://127.0.0.1:8000/](http://127.0.0.1:8000/), this is what we will see:\r\n",
    "\r\n",
    "<div style=\"text-align:center\"><img src=\"images/FastAPI_6.png\" width=400/></div>"
   ],
   "metadata": {}
  }
 ],
 "metadata": {
  "interpreter": {
   "hash": "ad8bebc098a042dc0df4e42fc2ecc8fff0bd7b8741641ce29007c29766dadbe0"
  },
  "kernelspec": {
   "display_name": "Python 3.9.1 64-bit ('base': conda)",
   "name": "python3"
  },
  "language_info": {
   "name": "python",
   "version": ""
  },
  "orig_nbformat": 4
 },
 "nbformat": 4,
 "nbformat_minor": 2
}