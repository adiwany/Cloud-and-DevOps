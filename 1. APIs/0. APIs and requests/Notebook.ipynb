{
 "cells": [
  {
   "cell_type": "markdown",
   "source": [
    "# APIs and requests\n",
    "\n",
    "> APIs are computer programs that know what to do and how to respond to requests sent to them over the internet\n",
    "\n",
    "You will see lots of far more complicated definitions online, but it's really as simple as that. We'll talk about what API stands for later.\n",
    "\n",
    "Before we get into it, here's a taster. Below, we make a request to the Pokemon API to get information about Pikachu."
   ],
   "metadata": {}
  },
  {
   "cell_type": "code",
   "execution_count": null,
   "source": [
    "import requests\r\n",
    "\r\n",
    "response = requests.get('https://pokeapi.co/api/v2/pokemon/pikachu')"
   ],
   "outputs": [],
   "metadata": {}
  },
  {
   "cell_type": "markdown",
   "source": [
    "We'll come back to this later"
   ],
   "metadata": {}
  },
  {
   "cell_type": "markdown",
   "source": [
    "\n",
    "## Communication Protocols\n",
    "\n",
    "A protocol is a predefined set of rules for communicating. The protocol tells computers how to format the message when sending it and how to interpret the raw data when recieving it.\n",
    "\n",
    "Here are some common computer protocols which you might have heard of.\n",
    "\n",
    "- __HTTP__ (HyperText Transfer Protocol) is one of the most common protocols\n",
    "- __HTTPS__ is a secure implementation of HTTP. It encrypts messages using a protocol called TLS (Transport Layer Security). When you see a padlock next to the URL in your browser, you're recieving data from that website via HTTPS. When your browser gives you a scary warning, you're probably connecting over HTTP. The security provided by TLS was formerly implemented by another protocol called SSL (Secure Sockets Layer).\n",
    "- __SSH__ (Secure SHell) is a protocol that allows secure communication over an insecure network (where other devices may see your messages), like the internet. It does this by encrypting messages using a public and private key, where both are required to decrypt the message.\n",
    "- __IP__ (Internet Protocol) is a protocol which ensures that packets (basically chunks) of a message get sent to the correct computer\n",
    "- __DNS__ (Domain Name Server) is a protocol that maps human readable urls like `https://www.theaicore.com` to their IP address, such as `192.0.2.1`\n",
    "\n",
    "## Requests\n",
    "\n",
    "A __request__ is a message sent from one computer to another. Typically a __response__ is returned in the opposite direction. A request must be sent using a protocol, which tells both computers the rules for how to send and interpret messages.\n",
    "\n",
    "In this notebook, we will be making HTTP requests to existing APIs.\n",
    "\n"
   ],
   "metadata": {}
  },
  {
   "cell_type": "markdown",
   "source": [
    "## Client vs server\n",
    "\n",
    "You will commonly hear about the __client__, which is the computer initiating the request (asking for the Pokemon), and the __server__ which is the computer handling the request (returning the Pokemon info).\n",
    "\n",
    "In reality, there is no difference in the two computers. The server and the client just represent two different software programs. They could be running on the exact same hardware. In fact, they could be running on the exact same computer! This is commonly the case when developing an API or web application locally."
   ],
   "metadata": {}
  },
  {
   "cell_type": "markdown",
   "source": [
    "\n",
    "## Making HTTP requests\n",
    "\n",
    "We can make requests to an API from the terminal using the `curl` (Client URL) command.\n"
   ],
   "metadata": {}
  },
  {
   "cell_type": "code",
   "execution_count": null,
   "source": [
    "!curl https://pokeapi.co/api/v2/pokemon/pikachu"
   ],
   "outputs": [],
   "metadata": {}
  },
  {
   "cell_type": "markdown",
   "source": [
    "\n",
    "We can use the python library `requests` to send messages to an API.\n"
   ],
   "metadata": {}
  },
  {
   "cell_type": "code",
   "execution_count": 2,
   "source": [
    "import requests\r\n",
    "\r\n",
    "response = requests.get('https://pokeapi.co/api/v2/pokemon/pikachu')"
   ],
   "outputs": [],
   "metadata": {}
  },
  {
   "cell_type": "markdown",
   "source": [
    "## We can do more than just `GET` information\n",
    "\n",
    "API stands for \"Application Programmable Interface\"\n",
    "\n",
    "## Resources and methods\n",
    "\n",
    "In the example above, we used the `requests.get` function to make a \"__`GET` request__\" request to the `/api/v2/pokemon/pikachu` \"__resource__\" of the API.\n",
    "\n",
    "APIs can be programmed to respond to other types of requests too, which should roughly be used as follows:\n",
    "\n",
    "- `GET` - get some data\n",
    "- `POST` - insert some new data\n",
    "- `PUT` - update some data\n",
    "- `DELETE` - delete some data\n",
    "\n",
    "These are some examples of the most common HTTP __methods__. Read about them in detail [here](https://developer.mozilla.org/en-US/docs/Web/HTTP/Methods).\n",
    "\n",
    "Read further and compare GET and POST methods [here](https://www.w3schools.com/tags/ref_httpmethods.asp). One particular thing of interest is that GET request responses can be cached, whereas POST responses cannot.\n",
    "\n",
    "Below we show how to make different types of requests to the API using Python."
   ],
   "metadata": {}
  },
  {
   "cell_type": "code",
   "execution_count": 3,
   "source": [
    "requests.get('https://pokeapi.co/api/v2/pokemon/pikachu')\r\n",
    "requests.post('https://pokeapi.co/api/v2/pokemon/pikachu')\r\n",
    "requests.put('https://pokeapi.co/api/v2/pokemon/pikachu')\r\n",
    "requests.delete('https://pokeapi.co/api/v2/pokemon/pikachu')\r\n",
    "requests.patch('https://pokeapi.co/api/v2/pokemon/pikachu')"
   ],
   "outputs": [
    {
     "output_type": "execute_result",
     "data": {
      "text/plain": [
       "<Response [404]>"
      ]
     },
     "metadata": {},
     "execution_count": 3
    }
   ],
   "metadata": {}
  },
  {
   "cell_type": "markdown",
   "source": [
    "\n",
    "To get information about a different pokemon, we could make a `GET` request to a different resource, such as `/api/v2/pokemon/squirtle`. We need a different resource because an API can only implement 1 method of each type on any given resource.\n",
    "\n",
    "We commonly use talk about these HTTP methods by saying something like \"Make a `DELETE` request to the `/profiles` resource\".\n"
   ],
   "metadata": {}
  },
  {
   "cell_type": "markdown",
   "source": [
    "Side note: What is a browser?\n",
    "\n",
    "> A browser is a program that displays information in a way that is easy for a human to understand.\n",
    "\n",
    "It doesn't just show you the raw binary data. When you search for a webpage, it will render the HTML. When you open an image in a new tab, it will display the image. When you search for an API endpoint with a `GET` method implemented that returns JSON, it will print the response JSON.\n",
    "\n",
    "> Did you know that when you search something in your browser, it makes a `GET` request to that URL?\n",
    "\n",
    "![browserGET](images/browserGET.png)"
   ],
   "metadata": {}
  },
  {
   "cell_type": "markdown",
   "source": [
    "\n",
    "## Types of API\n",
    "\n",
    "There are several different types of API. Here's what you need to know for now:\n",
    "- __REST APIs__ are by far the most common type of API. REST is an acronym for REpresentational State Transfer. They expect HTTP requests. Read more [here](https://en.wikipedia.org/wiki/Representational_state_transfer)\n",
    "- __HTTP APIs__ are a legacy version of REST APIs.\n",
    "- __Websocket APIs__ enable not only the client to be able to initiate requests to the server, but for the server to initiate requests to the client. This is 2-way communication is commonly used in instant messaging applications, where a server sits between two (or more) users listening for messages from one users and then sends the intended recipients the message by initiating a request to them.\n",
    "\n",
    "Despite how much we have talked about HTTP, but we are actually going to exclusively working with REST APIs. Still, many concepts also apply to other types of API.\n",
    "\n",
    "## Response Codes\n",
    "\n",
    "If we print our API response, we will see that is comes with a number.\n",
    "\n",
    "We can access the status code using the `.status_code` attribute of the response.\n",
    "\n",
    "That is the \"__status code__\"."
   ],
   "metadata": {}
  },
  {
   "cell_type": "code",
   "execution_count": 4,
   "source": [
    "import requests\r\n",
    "\r\n",
    "response = requests.get('https://pokeapi.co/api/v2/pokemon/pikachu')\r\n",
    "print(response)\r\n",
    "print(response.status_code)"
   ],
   "outputs": [
    {
     "output_type": "stream",
     "name": "stdout",
     "text": [
      "<Response [200]>\n",
      "200\n"
     ]
    }
   ],
   "metadata": {}
  },
  {
   "cell_type": "markdown",
   "source": [
    "\n",
    "You've probably seen a 404 response on a browser before. That's a status code. Do you recognise any others in the table below?\n",
    "\n",
    "![response codes](images/http-codes.png)\n",
    "\n",
    "## Headers\n",
    "\n",
    "Headers are pieces of information sent along with a request\n",
    "\n",
    "Headers can be sent from the client to the server as part of a request, or from the server to the client as part of a response.\n",
    "\n",
    "### What are some common headers?\n",
    "- Authentication tokens\n",
    "- Media types\n",
    "- CORS headers (see below)\n",
    "\n",
    "Read more about headers [here](https://developer.mozilla.org/en-US/docs/Web/HTTP/Headers)\n",
    "\n",
    "### CORS (Cross Origin Resource Sharing)\n",
    "\n",
    "> CORS is a mechanism for restricting which computers (domains or IP addresses) are allowed to access an API resource\n",
    "\n",
    "Read more on CORS [here](https://developer.mozilla.org/en-US/docs/Web/HTTP/CORS)"
   ],
   "metadata": {}
  },
  {
   "cell_type": "markdown",
   "source": [
    "## Websites vs APIs & Front-end vs Back-end\n",
    "\n",
    "You guessed it, most websites these days are simply a pretty user interface wrapped around an API. When you press a button, change your profile picture, or send a message, it probably makes a request to an API.\n",
    "\n",
    "An API is typically the interface between the __front-end__ (the user interface) and the __back-end__ (the underlying infrastructure like the database). The front-end is what an end user interacts with, and the back end is the software that they don't see running in the background."
   ],
   "metadata": {}
  }
 ],
 "metadata": {
  "orig_nbformat": 4,
  "language_info": {
   "name": "python",
   "version": "3.8.3",
   "mimetype": "text/x-python",
   "codemirror_mode": {
    "name": "ipython",
    "version": 3
   },
   "pygments_lexer": "ipython3",
   "nbconvert_exporter": "python",
   "file_extension": ".py"
  },
  "kernelspec": {
   "name": "python3",
   "display_name": "Python 3.8.3 64-bit ('base': conda)"
  },
  "interpreter": {
   "hash": "66a4c1a82e4b740877da9482796a67c3d19e50649dddfb2985c1182127ae3fd0"
  }
 },
 "nbformat": 4,
 "nbformat_minor": 2
}