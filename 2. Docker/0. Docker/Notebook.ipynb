{
 "cells": [
  {
   "cell_type": "markdown",
   "source": [
    "# Docker\n",
    "\n",
    "> Docker allows us to package our code, apps etc. with all the necessary dependencies in a self-contained environment called a docker image\n",
    "\n",
    "> We can then create instances of these images, which we call docker containers\n",
    "\n",
    "This idea was an extension of LXC (Linux Containers) and their usage, and __revolutionized the way we deploy software__.\n",
    "\n",
    "__What can I use Docker for?__\n",
    "- Standardized development environment across many workstations\n",
    "- Consistent deployment of applications\n",
    "- Full reproducibility (e.g. for research)"
   ],
   "metadata": {}
  },
  {
   "cell_type": "markdown",
   "source": [
    "## Software\n",
    "\n",
    "> One should follow steps dependent on their OS [here](https://docs.docker.com/get-docker/)\n",
    "\n",
    "After installation there are two steps involved to run docker containers:\n",
    "\n",
    "### dockerd\n",
    "\n",
    "> `dockerd` is a daemon (software running in the background) which handles requests from command line Docker's interface (and interfaces with operating system)\n",
    "\n",
    "Usually, daemons are started during system initialization, the same thing can be done with Docker.\n",
    "\n",
    "To testing things out one can run (optionally with `sudo` and `&` to run in the background):\n",
    "\n",
    "```bash\n",
    "dockerd\n",
    "```\n",
    "\n",
    "> In general we `start`/`enable` daemon instead of running it manually each time (see below)\n",
    "\n",
    "Depending on your system (usually it is `systemd`) one can run daemons like this (you could also set `docker` on a per-user basis, which is a more secure alternative [see here](https://docs.docker.com/engine/security/rootless/)):\n",
    "\n",
    "```bash\n",
    "# start docker \n",
    "sudo systemctl start docker \n",
    "# enable docker daemon during boot\n",
    "sudo systemctl enable docker\n",
    "```\n",
    "\n",
    "For MacOS or Windows, you have to start the docker daemon app and/or enable it (see specific instructions for your OS).\n",
    "\n",
    "__To verify everything is fine (assuming we use `systemctl`) run:__\n",
    "\n",
    "```bash\n",
    "sudo systemctl is-active docker\n",
    "```"
   ],
   "metadata": {}
  },
  {
   "cell_type": "markdown",
   "source": [
    "### CLI Interface\n",
    "\n",
    "> Command line `docker` allows us to run commands (like creating images and containers) by communicating with `dockerd` daemon\n",
    "\n",
    "Run the following to see the interface running:"
   ],
   "metadata": {}
  },
  {
   "cell_type": "code",
   "execution_count": null,
   "source": [
    "docker --version"
   ],
   "outputs": [],
   "metadata": {
    "ExecuteTime": {
     "end_time": "2021-04-05T01:44:40.396295Z",
     "start_time": "2021-04-05T01:44:40.262616Z"
    }
   }
  },
  {
   "cell_type": "markdown",
   "source": [
    "## Images\n",
    "\n",
    "> Docker image is a piece of code which sets up the whole environment\n",
    "\n",
    "Let's take a look at a `Dockerfile` (which is the name of a file that specifies how to create an image) first.\n",
    "\n",
    "The capitalised words starting each line in the Dockerfile are called __instructions__ and are basically commands, followed by arguments (like in terminal), which the docker build command knows how to execute. Docker build runs each of these instructions in turn to create the docker image."
   ],
   "metadata": {}
  },
  {
   "cell_type": "code",
   "execution_count": null,
   "source": [
    "# Specify base image:tag (starting point for our image)\r\n",
    "FROM ubuntu:18.04\r\n",
    "\r\n",
    "# Update OS\r\n",
    "RUN apt-get update \\\r\n",
    "    # Install minimal Python3 version\r\n",
    "    && apt-get install -y --no-install-recommends python3 \\\r\n",
    "    # Remove mirrors making minimal image\r\n",
    "    && rm -rf /var/lib/apt/lists/*\r\n",
    "\r\n",
    "# Copy data from docker context (from current folder (first `.`) to a folder within the container (second `.`)) \r\n",
    "COPY . .\r\n",
    "\r\n",
    "# When we run container this will be the command run\r\n",
    "ENTRYPOINT [\"python3\"]"
   ],
   "outputs": [],
   "metadata": {
    "ExecuteTime": {
     "end_time": "2021-04-05T01:44:41.235314Z",
     "start_time": "2021-04-05T01:44:40.400131Z"
    }
   }
  },
  {
   "cell_type": "markdown",
   "source": [
    "Once we have our `Dockerfile` (sometimes named `<purpose>.Dockerfile` if multiple of them are in a single directory) we can build the image via command line:"
   ],
   "metadata": {}
  },
  {
   "cell_type": "code",
   "execution_count": null,
   "source": [
    "docker build . -t repository/python_image:latest -f example.Dockerfile"
   ],
   "outputs": [],
   "metadata": {
    "ExecuteTime": {
     "end_time": "2021-04-05T01:44:41.240499Z",
     "start_time": "2021-04-05T01:44:40.269Z"
    }
   }
  },
  {
   "cell_type": "markdown",
   "source": [
    "Cell above:\n",
    "- creates an image named `repository/python_image` which is tagged as `latest` (it is also the default value if omitted)\n",
    "- from `example.Dockerfile` file located in this module\n",
    "- by giving current directory (`.`) as context"
   ],
   "metadata": {}
  },
  {
   "cell_type": "code",
   "execution_count": null,
   "source": [
    "docker images # show our current images on this machine"
   ],
   "outputs": [],
   "metadata": {
    "ExecuteTime": {
     "end_time": "2021-04-05T01:45:15.494461Z",
     "start_time": "2021-04-05T01:45:15.341555Z"
    }
   }
  },
  {
   "cell_type": "markdown",
   "source": [
    "## Context & .dockerignore\n",
    "\n",
    "\"The build context is the set of files located at the specified PATH or URL. Those files are sent to the Docker daemon during the build so it can use them in the filesystem of the image.\" By default, the docker context is the location from which `docker build` is executed.\n",
    "\n",
    "> When we build the image in a given directory, __everything is added recursively to the context__ (so it can be copied into image, like above)\n",
    "\n",
    "`Dockerfile` might be surrounded by a lot of files and it takes time to copy them into `Docker` system (might even crash if there are too many files!)\n",
    "\n",
    "Because of that `.dockerignore` file can be specified (really similar to `.gitignore`):"
   ],
   "metadata": {}
  },
  {
   "cell_type": "code",
   "execution_count": null,
   "source": [
    "__main__.py\r\n",
    "requirements.txt"
   ],
   "outputs": [],
   "metadata": {
    "ExecuteTime": {
     "end_time": "2021-04-05T01:44:41.245418Z",
     "start_time": "2021-04-05T01:44:40.274Z"
    }
   }
  },
  {
   "cell_type": "markdown",
   "source": [
    "## Containers\n",
    "\n",
    "> Containers are instantiations of images\n",
    "\n",
    "As we have built our `repository/python_image` we can create and run container from it:"
   ],
   "metadata": {}
  },
  {
   "cell_type": "code",
   "execution_count": null,
   "source": [
    "docker run repository/python_image:latest --help"
   ],
   "outputs": [],
   "metadata": {
    "ExecuteTime": {
     "end_time": "2021-04-05T01:44:41.248025Z",
     "start_time": "2021-04-05T01:44:40.277Z"
    }
   }
  },
  {
   "cell_type": "markdown",
   "source": [
    "## Thinking of containers\n",
    "\n",
    "> One should think of the containers as __standalone units__ (like applications) __having single responsibility__\n",
    "\n",
    "Examples could be (but are not limited to):\n",
    "- MySQL database container (other containers connect to it via `EXPOSE`d ports)\n",
    "- Data preprocessing creating a single artifact (preprocessed dataset)\n",
    "- Neural network training creating a single artifact (neural network)\n",
    "\n",
    "__Never try to fit everything into a single container!__\n",
    "\n",
    "In the above case, our container is similar to simply running `python` from the command line\n",
    "\n",
    "> Containers should be immutable (their internal state is always the same)\n",
    "\n",
    "This allows us to:\n",
    "- Destroy and recreate containers quickly\n",
    "- Always be in a well-defined state"
   ],
   "metadata": {}
  },
  {
   "cell_type": "markdown",
   "source": [
    "## Dockerfile commands (instructions)\n",
    "\n",
    "> Docker provides a couple commands, which allows us to work with in a similar fashion to command line\n",
    "\n",
    "__Each command creates a new layer__:\n",
    "- Images can be built from any layer upwards\n",
    "- __Layers are cached and reused by consecutive builds__\n",
    "- __Layers can be reused between different images__\n",
    "\n",
    "### [FROM](https://docs.docker.com/engine/reference/builder/#from)\n",
    "\n",
    "> `FROM [--platform=<platform>] <image>[:<tag>] [AS <name>]`\n",
    "\n",
    "- Starts __build stage__ of an image\n",
    "- Specifies base image (like `Ubuntu`, `node`, `conda`) which defines what one can do in the image\n",
    "- `AS` defines name for the image, we will see the usage during [multi-stage builds](https://docs.docker.com/develop/develop-images/multistage-build/).\n",
    "\n",
    "It can be mixed with `ARG` (which allows us to pass this value from a command line) like this:"
   ],
   "metadata": {}
  },
  {
   "cell_type": "code",
   "execution_count": null,
   "source": [
    "# Version is out of build stage\r\n",
    "ARG VERSION=latest\r\n",
    "# Here build stage starts\r\n",
    "FROM busybox:$VERSION\r\n",
    "\r\n",
    "# Gets version into build stage\r\n",
    "ARG VERSION\r\n",
    "RUN echo $VERSION > image_version"
   ],
   "outputs": [],
   "metadata": {
    "ExecuteTime": {
     "end_time": "2021-04-05T01:44:41.250268Z",
     "start_time": "2021-04-05T01:44:40.280Z"
    }
   }
  },
  {
   "cell_type": "markdown",
   "source": [
    "### [RUN](https://docs.docker.com/engine/reference/builder/#run)\n",
    "\n",
    "> Runs specified command __during build stage__ (e.g. installing some packages)\n",
    "\n",
    "Forms:\n",
    "\n",
    "> `RUN <command>` (execute via `shell`)\n",
    "\n",
    "__or__:\n",
    "\n",
    "> `RUN [\"executable\", \"param1\", \"param2\"]` (`exec` form)\n",
    "\n",
    "Which form to use?\n",
    "- `shell` - if we want to run `shell` (usually `bash`) command like `apt-get install`\n",
    "- `exec` - if the base image has no shell __or__ we don't want string munging\n"
   ],
   "metadata": {}
  },
  {
   "cell_type": "code",
   "execution_count": null,
   "source": [
    "# Equivalent\r\n",
    "RUN /bin/bash -c 'source $HOME/.bashrc; echo $HOME'\r\n",
    "RUN [\"/bin/bash\", \"-c\", \"echo hello\"]"
   ],
   "outputs": [],
   "metadata": {
    "ExecuteTime": {
     "end_time": "2021-04-05T01:44:41.252260Z",
     "start_time": "2021-04-05T01:44:40.283Z"
    }
   }
  },
  {
   "cell_type": "markdown",
   "source": [
    "### [ENTRYPOINT](https://docs.docker.com/engine/reference/builder/#entrypoint)\n",
    "\n",
    "> __Defines entrypoint (command which will be run) WHEN CONTAINER IS CREATED FROM AN IMAGE__\n",
    "\n",
    "Forms:\n",
    "\n",
    "> `ENTRYPOINT [\"executable\", \"param1\", \"param2\"]` (preferred `exec` form)\n",
    "\n",
    "__or__\n",
    "\n",
    "> `ENTRYPOINT command param1 param2` (`shell` form)\n",
    "\n",
    "- Container runs as an executable (which you should always aim to do, more on that later!)\n",
    "- You should always specify it (unless you want to use `shell`)\n",
    "- __Either of `ENTRYPOINT` or `CMD` is needed__\n",
    "\n",
    "#### `exec` form\n",
    "\n",
    "- __Does not invoke shell__, hence it is not dependent on it\n",
    "- __Allows us to use optional `CMD`__ (in a second, after command)"
   ],
   "metadata": {}
  },
  {
   "cell_type": "code",
   "execution_count": null,
   "source": [
    "FROM ubuntu\r\n",
    "# When we run a container from the image, top -b will be run\r\n",
    "ENTRYPOINT [\"top\", \"-b\"]"
   ],
   "outputs": [],
   "metadata": {
    "ExecuteTime": {
     "end_time": "2021-04-05T01:44:41.254678Z",
     "start_time": "2021-04-05T01:44:40.285Z"
    }
   }
  },
  {
   "cell_type": "markdown",
   "source": [
    "### [CMD](https://docs.docker.com/engine/reference/builder/#cmd)\n",
    "\n",
    "> __Specifies default arguments to entrypoint (if any) WHICH USER CAN OVERRIDE DURING `docker run`__\n",
    "\n",
    "Forms:\n",
    "\n",
    "> `CMD [\"executable\",\"param1\",\"param2\"]` (specify `executable` as `entrypoint`, whole command can be overridden)\n",
    "\n",
    "__or__\n",
    "\n",
    "> `CMD [\"param1\",\"param2\"]` (as default parameters to ENTRYPOINT, only those could be overridden)\n",
    "\n",
    "__or__ \n",
    "\n",
    "> `CMD command param1 param2` (shell form, __discouraged__ as users is unable to override)"
   ],
   "metadata": {}
  },
  {
   "cell_type": "code",
   "execution_count": null,
   "source": [
    "FROM ubuntu\r\n",
    "ENTRYPOINT [\"top\", \"-b\"]\r\n",
    "CMD [\"-c\"]"
   ],
   "outputs": [],
   "metadata": {
    "ExecuteTime": {
     "end_time": "2021-04-05T01:44:41.256857Z",
     "start_time": "2021-04-05T01:44:40.288Z"
    }
   }
  },
  {
   "cell_type": "markdown",
   "source": [
    "Now if we `run` the container from the above image, command `top -b -c` will be run.\n",
    "\n",
    "- `top -b` __will always run__\n",
    "- `-c` can be changed to some other flag/command via `docker run`"
   ],
   "metadata": {}
  },
  {
   "cell_type": "markdown",
   "source": [
    "Let's see how `CMD` interacts with `ENTRYPOINT` for a better understanding:\n",
    "\n",
    "Note: `/bin/sh -c` is just command which executes the proceeding code in the terminal\n",
    "\n",
    "![](images/docker_entrypoint_cmd_interaction.png)"
   ],
   "metadata": {}
  },
  {
   "cell_type": "markdown",
   "source": [
    "### [COPY](https://docs.docker.com/engine/reference/builder/#copy)\n",
    "\n",
    "> __Allows users to specify which file(s) or directories should be copied into the image from host system__\n",
    "\n",
    "> `COPY <src> <destination>`\n",
    "\n",
    "Often idiom `COPY . .` is used, which copies file from context location to current working directory inside container. \n",
    "\n",
    "It might look like we're copying something to the same location, but that's not what's happening. We essentially have two file structures which we are moving files between. The file system which the first argument to `COPY` refers to is the build context (wherever you run `docker build` from). The file system which the second argument to `COPY refers to is the file system within your docker container.\n",
    "\n",
    "### Other commands\n",
    "\n",
    "There are a few others, notably:\n",
    "- `LABEL <key>=<value>` - allows us to add metadata to our image (like author, maintainer, way of contacting)\n",
    "- `WORKDIR dir` - sets working directory to a different one\n",
    "- `ENV <key>=<value>` - environment variable readable throughout the concrete build stage\n",
    "- `EXPOSE <port>` - `EXPOSE 80` would expose port `80` inside the container for others to connect (usually a person running `docker` command will specify which ports to expose and connect, hence this one isn't used very often)."
   ],
   "metadata": {}
  },
  {
   "cell_type": "markdown",
   "source": [
    "## Commands tips\n",
    "\n",
    "### Know how to use cache\n",
    "\n",
    "> __Some commands invalidate cache__ and when this happens, every step following it will have to be re-run when you create the image\n",
    "\n",
    "Let's look at the example Dockerfile below (similar to the first one):"
   ],
   "metadata": {}
  },
  {
   "cell_type": "code",
   "execution_count": null,
   "source": [
    "FROM ubuntu:18.04\r\n",
    "\r\n",
    "RUN apt-get update\r\n",
    "COPY . .\r\n",
    "\r\n",
    "RUN apt-get install -y --no-install-recommends python3\r\n",
    "RUN rm -rf /var/lib/apt/lists/*"
   ],
   "outputs": [],
   "metadata": {
    "ExecuteTime": {
     "end_time": "2021-04-05T01:44:41.258880Z",
     "start_time": "2021-04-05T01:44:40.293Z"
    }
   }
  },
  {
   "cell_type": "markdown",
   "source": [
    "Now, no matter what happens, `python3` will be installed during each `docker build`, because:\n",
    "\n",
    "> Docker has no mechanism to check whether `context` for `COPY` command changed\n",
    "\n",
    "Instead we could do what we've seen at the very beginning __as Python installation is not dependent on the context__.\n",
    "\n",
    "> __If possible, put `COPY` statements AFTER setting up OS dependencies__"
   ],
   "metadata": {}
  },
  {
   "cell_type": "markdown",
   "source": [
    "### Chain commands together\n",
    "\n",
    "> Whenever possible __chain multiple command using `&&`__ so they are all in a single `RUN` directive\n",
    "\n",
    "Docker works in a similar fashion to `git`, __it only stashes changes (additions) to the system__.\n",
    "\n",
    "This is often undesirable, because:\n",
    "- Temporary files are left out and increase image's size (`rm -rf /var/lib/apt/lists/*` seen at the beginning of the lesson)\n",
    "- Containers __are less of a black box__, which means attackers can analyze Docker system easier and find it's weak points\n",
    "\n",
    "__Main command to look out for is `RUN`, most of the commands (like `LABEL`) DO NOT create an additional layer__"
   ],
   "metadata": {}
  },
  {
   "cell_type": "markdown",
   "source": [
    "## Small, self-contained images\n",
    "\n",
    "> __The smaller the image, the better__\n",
    "\n",
    "Imagine we have to run `10` containers from a single image published image. Now, if the image weighs `1GB` we would need to use at least `10GB` of bandwidth.\n",
    "\n",
    "Compare that to an image of `10MB`. Other pros include:\n",
    "- Smaller latency for users (setup takes considerably shorter)\n",
    "- Easier to recreate a fleet of containers (more on that during Kubernetes)\n",
    "- Easier to replace a failed container\n",
    "\n",
    "There is one killer feature of Docker which helps us achieve it, namely...\n",
    "\n",
    "## Multi-stage builds\n",
    "\n",
    "> First image builds the application (creating an artifact), while the second copies it and sets it up for running in a container\n",
    "\n",
    "The easiest approach is to look at an example `Dockerfile`:"
   ],
   "metadata": {}
  },
  {
   "cell_type": "code",
   "execution_count": null,
   "source": [
    "# FIRST (BUILDER) STAGE\r\n",
    "FROM golang:1.7.3 AS builder\r\n",
    "\r\n",
    "# Obtain golang code\r\n",
    "WORKDIR /go/src/github.com/alexellis/href-counter/\r\n",
    "RUN go get -d -v golang.org/x/net/html  \r\n",
    "COPY app.go .\r\n",
    "# Compile is as a single exectuable file called app\r\n",
    "RUN CGO_ENABLED=0 GOOS=linux go build -a -installsuffix cgo -o app .\r\n",
    "\r\n",
    "# SECOND STAGE\r\n",
    "# alpine is a very slim file system (few MB) great for lightweight deployment\r\n",
    "FROM alpine:latest  \r\n",
    "\r\n",
    "# Setup only bare necessities\r\n",
    "RUN apk --no-cache add ca-certificates\r\n",
    "WORKDIR /root/\r\n",
    "# Copy self-contained app into the smaller image\r\n",
    "COPY --from=builder /go/src/github.com/alexellis/href-counter/app .\r\n",
    "# Setup the application as container's ENTRYPOINT\r\n",
    "ENTRYPOINT [\"./app\"]  "
   ],
   "outputs": [],
   "metadata": {
    "ExecuteTime": {
     "end_time": "2021-04-05T01:44:41.261529Z",
     "start_time": "2021-04-05T01:44:40.295Z"
    }
   }
  },
  {
   "cell_type": "markdown",
   "source": [
    "> __You should use multi-stage builds wherever possible!__\n",
    "\n",
    "### Pros\n",
    "\n",
    "- Drastically reduces image size\n",
    "- Simplifies maintenance\n",
    "\n",
    "### Cons\n",
    "\n",
    "- __Mainly usable for compilable language__ (sorry Python :( ) like Go, C++\n",
    "- __Even better with statically linked__ (e.g. everything is contained in a single executable)\n",
    "- __Hard to make it work with ML/DL__ as those require a lot of dependencies\n",
    "\n",
    "One way to go around it is to use `torchscript` and `C++` PyTorch's frontend (or neural network conversion to Tensorflow) and changing the language\n",
    "\n",
    "> Be aware, that this approach is currently really hard and might bring you a lot of headaches!\n",
    "\n",
    "> __Remember deployment is not only about neural networks, there are other things (like servers, databases etc.) that might benefit from this approach!__"
   ],
   "metadata": {}
  },
  {
   "cell_type": "markdown",
   "source": [
    "## [Docker Hub](https://hub.docker.com/)\n",
    "\n",
    "> __Online registry with many official and third party images uploaded and ready to be run as containers (or act as base)__\n",
    "\n",
    "![](images/dockerhub_main_page.png)\n",
    "\n",
    "One can `docker run` those images directly and those will be downloaded automatically:"
   ],
   "metadata": {}
  },
  {
   "cell_type": "code",
   "execution_count": null,
   "source": [
    "docker run busybox:latest ls -la"
   ],
   "outputs": [],
   "metadata": {
    "ExecuteTime": {
     "end_time": "2021-04-05T12:53:25.533396Z",
     "start_time": "2021-04-05T12:53:24.367993Z"
    }
   }
  },
  {
   "cell_type": "markdown",
   "source": [
    "### Tips\n",
    "\n",
    "- Use official images if possible\n",
    "- Use smallest image fitting the job (e.g. `alpine` instead of `ubuntu` if possible)\n",
    "- __Check unofficial images__ (or roll out your own)"
   ],
   "metadata": {}
  },
  {
   "cell_type": "markdown",
   "source": [
    "## Exercise\n",
    "\n",
    "- Create your own DockerHub account\n",
    "- Use `docker login` on the command line to login with your own account\n",
    "- Folow [this tutorial](https://docs.docker.com/docker-hub/#step-4-build-and-push-a-container-image-to-docker-hub-from-your-computer) in order to push your first image to the DockerHub!\n",
    "- You may create a different image if you wish and have something cool (and preferably small) in mind!"
   ],
   "metadata": {}
  },
  {
   "cell_type": "markdown",
   "source": [
    "# Docker Commands\n",
    "\n",
    "Now, that we know a little bit about images, we may dive into Docker's command line interface.\n",
    "\n",
    "> __In new Docker version (`>=1.13`) the command line was redesigned in order to be more readable and grouped logicially__\n",
    "\n",
    "__High level most important commands__:\n",
    "- [`docker image SUBCOMMAND`](https://docs.docker.com/engine/reference/commandline/image/) - manage `Docker` images (like building or inspecting them)\n",
    "- [`docker container SUBCOMMAND`](https://docs.docker.com/engine/reference/commandline/container/) - manage `Docker` containers (creating from image, stopping, restarting, killing, inspecting etc.)\n",
    "- [`docker volume SUBCOMMAND`](https://docs.docker.com/engine/reference/commandline/volume/) - manages volumes (persistent data storage which might be shared and attached to Docker containers)\n",
    "- [`docker network SUBCOMMAND`](https://docs.docker.com/engine/reference/commandline/network/) - manage `Docker` networks (like creating, inspecting, listing etc., __not covered here, we will use Kubernetes for network related tasks__)\n",
    "\n",
    "__High level less important commands__:\n",
    "- [`docker config SUBCOMMAND`](https://docs.docker.com/engine/reference/commandline/config/) - configuration of Docker\n",
    "- [`docker stack`](https://docs.docker.com/engine/reference/commandline/stack/) - manage multiple containers as whole (__not covered, we will use Kubernetes instead__)\n",
    "- [`docker secret`](https://docs.docker.com/engine/reference/commandline/secret/) - manage secrets (like passwords and other sensitive data inside containers/images)\n",
    "- [`docker system`](https://docs.docker.com/engine/reference/commandline/system/) - manage Docker itself (how much space is used, cleaning images/containers etc.)\n",
    "\n",
    "Those `SUBCOMMAND`s are also available inside `docker` (e.g. `docker image build` is equivalent to `docker build`) and may be a source of confusion\n",
    "\n",
    "> __Check out documentation for `docker build` instead of `docker image build` as it has more information, BUT USE THE LATTER AS IT IS WAY MORE READABLE!__\n",
    "\n",
    "## docker image build\n",
    "\n",
    "> `docker image build [OPTIONS] PATH | URL | -`\n",
    "\n",
    "As seen previously one can use it to `build` `IMAGE` from `Dockerfile` __and__ `context`.\n",
    "\n",
    "Except building from local, one can also build from:\n",
    "- `github`: `docker build github.com/creack/docker-firefox`\n",
    "- `tar.gaz`: `docker build -f ctx/Dockerfile http://server/ctx.tar.gz` (here context is on a different server)\n",
    "- From `stdin` (no context in this case): `docker build - < Dockerfile`\n",
    "\n",
    "### Options\n",
    "\n",
    "- `-t` - tag the image (__always use it!__): `docker build -t whenry/fedora-jboss:latest -t whenry/fedora-jboss:v2.1 .` (multiple tags supported)\n",
    "- `-f` - specify different file: `docker build -f dockerfiles/Dockerfile.debug -t myapp_debug .`; __useful for separate production, testing, debugging images!__\n",
    "- `--build-arg` - pass arguments to the build stage (`ARG` above): `docker build --build-arg HTTP_PROXY=http://10.20.30.2:1234 .`\n",
    "\n",
    "\n",
    "## docker container run\n",
    "\n",
    "__The most important command you will all the time with A LOT of options!__\n",
    "\n",
    "> __REMINDER:__ \"Docker runs processes in isolated containers. A container is a process which runs on a host.\" \n",
    "\n",
    "> `docker container run [OPTIONS] IMAGE[:TAG] [COMMAND] [ARG...]`\n",
    "\n",
    "Using `OPTIONS` developer can override defaults set by the image creator, including, but not limited to:\n",
    "- detached or foreground running\n",
    "- network settings\n",
    "- runtime constraints\n",
    "- command run\n",
    "\n",
    "> `COMMAND` specifies a command to be passed to image entrypoint\n",
    "\n",
    "> `ARG` arguments passed to the command\n",
    "\n",
    "We have seen examples above\n",
    "\n",
    "### Running container interactively\n",
    "\n",
    "> `docker container run` can attach streams (`STDIN`, `STDOUT`, `STDERR`) of container and attach a terminal so we can interact with the container\n",
    "\n",
    "- `-a NAME_OF_STREAM`\n",
    "- `-t` allocate pseudo TTY (terminal)\n",
    "- `-i` keep STDIN open even if not attached to CLI\n",
    "\n",
    "`/bin/bash` specifies the entrypoint of TTY we have attached (or attached to)"
   ],
   "metadata": {}
  },
  {
   "cell_type": "code",
   "execution_count": null,
   "source": [
    "# RUN THOSE IN YOUR COMMAND LINE!\n",
    "\n",
    "# docker container run -a STDIN -a STDOUT -ti ubuntu /bin/bash\n",
    "# docker container run -it ubuntu /bin/bash"
   ],
   "outputs": [],
   "metadata": {
    "ExecuteTime": {
     "start_time": "2021-04-05T15:50:57.925Z"
    }
   }
  },
  {
   "cell_type": "markdown",
   "source": [
    "### Options\n",
    "\n",
    "- `--name NAME` - specify name for the container (__always do this__)\n",
    "- `--rm` - remove container after exit (__usually do this__); otherwise it will prevail in your operating system not doing anything\n",
    "- `-d` - run in a detached mode (default runs in foreground, equivalent to `-d=false`)\n",
    "- `-m` - set memory limit (`docker run -it -m 300M ubuntu:14.04 /bin/bash`), there are also flags for other resources\n",
    "- `-e NAME=VALUE` - pass environment variable to the container (`export today=Wednesday; docker run -e \"deep=purple\" -e today --rm alpine env` would allow us to use `$today` inside the container)\n",
    "- `--entrypoint` - override default image entrypoint (`docker run -it --entrypoint /bin/bash example/redis`); __reset via `--entrypoint=\"\"`!__\n",
    "\n",
    "> For more check out [`docker run` reference](https://docs.docker.com/engine/reference/run/)\n",
    "\n",
    "### Exit codes\n",
    "\n",
    "> If your `docker run` fails check the return code to know where to look for bugs\n",
    "\n",
    "- `125` - error within the daemon (e.g. wrong flag passed; `docker run --foo busybox`)\n",
    "- `126` - contained comment cannot be __invoked__ (`docker run busybox /etc` - it is a directory, not a command)\n",
    "- `127` - contained comment cannot be found (`docker run busybox foo` - no command `foo`)\n",
    "\n",
    "> Otherwise return code of contained comment will be returned (usually `0` if executed correctly)"
   ],
   "metadata": {}
  },
  {
   "cell_type": "markdown",
   "source": [
    "## Docker volumes\n",
    "\n",
    "We have been through a lot of content, there is one thing left... __Docker may create artifacts__ (like metrics from training or data after preprocessing).\n",
    "\n",
    "__How to get them out of container?__\n",
    "\n",
    "There are two options:\n",
    "- using `docker container cp` command\n",
    "- using volumes\n",
    "\n",
    "> __Volumes are persistent storage shared between host machine and Docker container(s)__\n",
    "\n",
    "Benefits should be obvious:\n",
    "- data sharing between containers and hosts (example: data preprocessing container creates dataset, neural network container trains our model on it)\n",
    "- we can copy to/from the containers and do the live updates of their data content\n",
    "- we can set the volume to be readable only for increased security\n",
    "\n",
    "### docker volume create\n",
    "\n",
    "> Create volume __which includes contents of the directory it was created in__\n",
    "\n",
    "(see `exercise` to check how to verify what's inside the volume)"
   ],
   "metadata": {}
  },
  {
   "cell_type": "code",
   "execution_count": null,
   "source": [
    "docker volume create docker_lesson"
   ],
   "outputs": [],
   "metadata": {}
  },
  {
   "cell_type": "markdown",
   "source": [
    "Now, we can __mount__ the volume to `/lesson` directory inside container (and list it's contents):"
   ],
   "metadata": {}
  },
  {
   "cell_type": "code",
   "execution_count": null,
   "source": [
    "docker container run --rm -v docker_lesson:/lesson busybox ls /lesson"
   ],
   "outputs": [],
   "metadata": {}
  },
  {
   "cell_type": "markdown",
   "source": [
    "__For other volume related commands see `Exercise` below!__\n",
    "\n",
    "### Mounting\n",
    "\n",
    "Let's take a look at a couple ways to `mount` the volume using `--mount`:"
   ],
   "metadata": {}
  },
  {
   "cell_type": "code",
   "execution_count": null,
   "source": [
    "docker run \\\n",
    "  --name devtest \\\n",
    "  --mount source=myvol2,target=/app \\\n",
    "  nginx:latest"
   ],
   "outputs": [],
   "metadata": {}
  },
  {
   "cell_type": "markdown",
   "source": [
    "## Exercise\n",
    "\n",
    "- Read the following aliases with comments and copy them to your aliases location\n",
    "- Run `--help` with them to know a little bit more (and check docs/google if something interests you)"
   ],
   "metadata": {}
  },
  {
   "cell_type": "code",
   "execution_count": null,
   "source": [
    "# Images\n",
    "alias di=\"docker image\" # General for docker images\n",
    "\n",
    "alias dib=\"docker image build\" # Build docker image\n",
    "alias dil=\"docker image ls\" # List docker images (check --help)\n",
    "alias dip=\"docker image push\" # Push NAME image\n",
    "alias dirm=\"docker image rm\" # Remove NAME image\n",
    "alias dirmall=\"docker image prune -a\" # Remove all images not used by containers\n",
    "\n",
    "# Containers\n",
    "alias dc=\"docker container\" # General for docker containers\n",
    "\n",
    "alias dcr=\"docker container run\" # Run container from an IMAGE image\n",
    "alias dccp=\"docker container cp\" # Copy data from src to dst inside container\n",
    "alias dce=\"docker container exec\" # Execute COMMAND inside container\n",
    "alias dci=\"docker container inspect\" # Inspect container\n",
    "alias dck=\"docker container kill\"  # Kill container\n",
    "alias dcl=\"docker container ls\" # List all available containers\n",
    "alias dcs=\"docker container stop\" # Stop running container\n",
    "\n",
    "alias dcrma='docker ps -a -q | xargs sudo docker rm' # Remove all non-running containers\n",
    "\n",
    "# Volumes\n",
    "alias dv=\"docker volume\" # General volume command\n",
    "\n",
    "alias dvc=\"docker volume create\" # Create NAMED volume\n",
    "alias dvl=\"docker volume ls\" # List all available volumes\n",
    "alias dvrm=\"docker volume rm\" # Remove volumes\n",
    "\n",
    "# List files inside the created volume\n",
    "dvi(){\n",
    "  docker run --rm -i -v=\"$1\":/tmp/myvolume busybox find /tmp/myvolume\n",
    "}\n",
    "\n",
    "# System\n",
    "alias dsi=\"docker system info\" # Display system-wide information\n",
    "alias dsdf=\"docker system df\" # How much images & containers take in terms of space\n",
    "alias dsp=\"docker system prune\" # Remove every unused image/containerj"
   ],
   "outputs": [],
   "metadata": {}
  },
  {
   "cell_type": "markdown",
   "source": [
    "## Challenges\n",
    "\n",
    "### Assessment\n",
    "\n",
    "- Why do we need `USER` command ([documentation](https://docs.docker.com/engine/reference/builder/#user)) inside Dockerfiles?\n",
    "- What is the [`ADD`](https://docs.docker.com/engine/reference/builder/#add) command responsible for?\n",
    "- Read more about [`Storage`](https://docs.docker.com/storage/) capabilities of Docker (including volumes)\n",
    "- What is `docker-compose` (on an abstract level, you don't have to dig into all of the details)\n",
    "\n",
    "\n",
    "### Non-assessment\n",
    "\n",
    "- What are Dockerfile's [parser directives](https://docs.docker.com/engine/reference/builder/#parser-directives)?\n",
    "- How to configure Docker daemon (check out [here](https://docs.docker.com/config/daemon/#configure-the-docker-daemon))?\n",
    "- How to enable GPU support inside Docker (check out [here](https://docs.docker.com/config/containers/resource_constraints/#gpu))\n",
    "- What is [Docker Engine API](https://docs.docker.com/engine/api/v1.41/#) and how could one use it? Maybe you can think of a project related to it?\n",
    "- Take a look at [Network settings in Docker](https://docs.docker.com/engine/reference/run/#network-settings) (this will be expanded during Kubernetes, but is a good introduction)\n",
    "\n",
    "\n",
    "## Workflow improvements\n",
    "\n",
    "Due to a lot of features and possibilities working with `Docker` may look really intimidating.\n",
    "\n",
    "Below are tools which might help you in your container journey:\n",
    "- https://github.com/bcicen/ctop - Check life statistics about running containers\n",
    "- https://github.com/wagoodman/dive - Deep dive into images and their layers, useful for learning and visualization\n",
    "- https://github.com/jesseduffield/lazydocker - more interactive way to... interact with Docker & docker-compose (__not covered here__)\n",
    "\n",
    "> __As per usual, check out [Awesome Docker List](https://github.com/veggiemonk/awesome-docker#container-operations) to find more helpful tools!__"
   ],
   "metadata": {}
  }
 ],
 "metadata": {
  "kernelspec": {
   "display_name": "Bash [conda env:.conda-AiCore] *",
   "language": "bash",
   "name": "conda-env-.conda-AiCore-bash"
  },
  "language_info": {
   "codemirror_mode": "shell",
   "file_extension": ".sh",
   "mimetype": "text/x-sh",
   "name": "bash"
  }
 },
 "nbformat": 4,
 "nbformat_minor": 2
}