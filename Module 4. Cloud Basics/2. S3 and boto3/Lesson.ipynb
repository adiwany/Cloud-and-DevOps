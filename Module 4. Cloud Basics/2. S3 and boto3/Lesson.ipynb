{
 "cells": [
  {
   "cell_type": "markdown",
   "metadata": {},
   "source": [
    "# Download files from an S3 Bucket using *requests*\n",
    "\n",
    "This small step by step tutorial will guide you to:\n",
    "\n",
    "- Create an AWS account\n",
    "- Create an Amazon S3 bucket\n",
    "- Download and configure the AWS CLI\n",
    "- Make public the files in the bucket\n",
    "- Upload your files\n",
    "- Download the files from the bucket\n"
   ]
  },
  {
   "cell_type": "markdown",
   "metadata": {},
   "source": [
    "## Create an S3 Bucket\n",
    "\n",
    "In the search bar, type 'S3', and click on the first option:\n",
    "<p align=\"center\">\n",
    "    <img src=\"images/amazon_search.PNG\" width=\"500\"/>\n",
    "</p>\n",
    "In the next window, click on 'Create bucket':\n",
    "\n",
    "<p align=\"center\">\n",
    "    <img src=\"images/Create_bucket.PNG\" width=\"500\"/>\n",
    "</p>\n",
    "\n",
    "Set a name for your bucket, and choose a region, any from US usually works fine, but make sure to use the same region in the next steps."
   ]
  },
  {
   "cell_type": "markdown",
   "metadata": {},
   "source": [
    "\n",
    "# Create an IAM user \n",
    "\n",
    "In the search bar look for 'IAM' and click the first option:\n",
    "\n",
    "<p align=\"center\">\n",
    "    <img src=\"images/IAM.PNG\" width=\"500\"/>\n",
    "</p>\n",
    "\n",
    "Next, click User in the left-hand side, and then click 'Add User'\n",
    "\n",
    "<p align=\"center\">\n",
    "    <img src=\"images/IAM_User.PNG\" width=\"500\"/>\n",
    "</p>\n",
    "\n",
    "Then fill the user name with the name you want, tick programmatic access, and click Next\n",
    "\n",
    "In the permissions page, select Attach existing policies directly, tick the AdministratorAccess and then click Next:\n",
    "\n",
    "<p align=\"center\">\n",
    "    <img src=\"images/Policies.PNG\" width=\"500\"/>\n",
    "</p>\n",
    "\n",
    "On the next pages, simply click Next and create the user. You will see the next page. This page contains your credentials for connecting to your S3 bucket. These credentials will only show once, so make sure to download the .csv file:\n",
    "\n",
    "<p align=\"center\">\n",
    "    <img src=\"images/Credentials.PNG\" width=\"500\"/>\n",
    "</p>\n"
   ]
  },
  {
   "cell_type": "markdown",
   "metadata": {},
   "source": [
    "\n",
    "## Download and configure AWS CLI\n",
    "\n",
    "If you are using Python, you should be familiar with the pip installer. Let's install awscli using:\n",
    "`pip install awscli`\n",
    "\n",
    "Next, in the terminal type `aws configure`\n",
    "Enter the information as it appears in the .csv file you downloaded in the previous step. \n",
    "\n",
    "When you are asked about the region name, go to your S3 bucket and look at the AWS Region of your bucket. The region name looks something like 'us-east-1'\n",
    "\n",
    "When asked about the output format, you can skip this info by pressing enter.\n",
    "\n",
    "Now, your computer is ready to use boto3\n",
    "\n",
    "Test that your installation is working by using `aws s3 ls`. You should see something like this:\n",
    "\n",
    "<p align=\"center\">\n",
    "    <img src=\"images/AWSCLI_ls.png\" width=\"500\"/>\n",
    "</p>\n"
   ]
  },
  {
   "cell_type": "markdown",
   "metadata": {},
   "source": [
    "# Using boto3 for using your AWS resources from Python\n",
    "\n",
    "boto3 is a library that allows us to work with AWS from our python script. In this example we are going to simply upload, download and explore S3 buckets, but you can use it to manage other resources such as `EC2`, `RDS`, and `DynamoDB`.\n",
    "\n",
    "First of all, install boto3 by typing in the terminal `pip install boto3`. Take into account that, in order to use `boto3` you need to have aws configures. \n",
    "\n",
    "Let's start by telling to boto3 that we want to use an S3 bucket:"
   ]
  },
  {
   "cell_type": "code",
   "execution_count": null,
   "metadata": {},
   "outputs": [],
   "source": [
    "\n",
    "import boto3 \n",
    "s3_client = boto3.client('s3')\n"
   ]
  },
  {
   "cell_type": "markdown",
   "metadata": {},
   "source": [
    "\n",
    "Now, let's upload something to your bucket:"
   ]
  },
  {
   "cell_type": "code",
   "execution_count": 1,
   "metadata": {},
   "outputs": [
    {
     "ename": "NameError",
     "evalue": "name 's3_client' is not defined",
     "output_type": "error",
     "traceback": [
      "\u001b[0;31m---------------------------------------------------------------------------\u001b[0m",
      "\u001b[0;31mNameError\u001b[0m                                 Traceback (most recent call last)",
      "\u001b[0;32m<ipython-input-1-1d9a82d8f095>\u001b[0m in \u001b[0;36m<module>\u001b[0;34m\u001b[0m\n\u001b[0;32m----> 1\u001b[0;31m \u001b[0mresponse\u001b[0m \u001b[0;34m=\u001b[0m \u001b[0ms3_client\u001b[0m\u001b[0;34m.\u001b[0m\u001b[0mupload_file\u001b[0m\u001b[0;34m(\u001b[0m\u001b[0mfile_name\u001b[0m\u001b[0;34m,\u001b[0m \u001b[0mbucket\u001b[0m\u001b[0;34m,\u001b[0m \u001b[0mobject_name\u001b[0m\u001b[0;34m)\u001b[0m\u001b[0;34m\u001b[0m\u001b[0;34m\u001b[0m\u001b[0m\n\u001b[0m",
      "\u001b[0;31mNameError\u001b[0m: name 's3_client' is not defined"
     ]
    }
   ],
   "source": [
    "response = s3_client.upload_file(file_name, bucket, object_name)"
   ]
  },
  {
   "cell_type": "markdown",
   "metadata": {},
   "source": [
    "\n",
    "*file_name* is the directory of the file you want to upload, *bucket* is the name of your S3 bucket, and *object_name* is the name you want to give to your file once uploaded\n",
    "\n",
    "\n",
    "Try it yourself!\n",
    "\n",
    "Now, let's see the content of the bucket:"
   ]
  },
  {
   "cell_type": "code",
   "execution_count": null,
   "metadata": {},
   "outputs": [],
   "source": [
    "import boto3\n",
    "s3 = boto3.resource('s3')\n",
    "\n",
    "my_bucket = s3.Bucket('bucket_name')\n",
    "\n",
    "for file in my_bucket.objects.all():\n",
    "    print(file.key)"
   ]
  },
  {
   "cell_type": "markdown",
   "metadata": {},
   "source": [
    "\n",
    "\n",
    "Once you know the content of it, you can download the files:"
   ]
  },
  {
   "cell_type": "code",
   "execution_count": null,
   "metadata": {},
   "outputs": [],
   "source": [
    "\n",
    "s3 = boto3.client('s3')\n",
    "\n",
    "s3.download_fileobj(bucket, file_name, object_name)\n"
   ]
  },
  {
   "cell_type": "markdown",
   "metadata": {},
   "source": [
    "\n",
    "# Make public the files in the bucket\n",
    "\n",
    "In your S3 buket, disable the 'Block all public access' option:\n",
    "\n",
    "<p align=\"center\">\n",
    "    <img src=\"images/disable.PNG\" width=\"500\"/>\n",
    "</p>\n",
    "\n",
    "Once you created it, you can access to it in the bucket list, now you just need to make it public.\n",
    "\n",
    "\n",
    "To make the objects public, go to http://awspolicygen.s3.amazonaws.com/policygen.html, which will help you create the necessary policy.<br>\n",
    "- In 'Select Type of Policy' select S3 Bucket Policy. \n",
    "- In 'Principal' type ' * '\n",
    "- In 'Actions' select 'Get Object'\n",
    "- In 'Amazon Resource Name (ARN)' type arn:aws:s3:::{your_bucket_name}/*\n",
    "- Press Statement\n",
    "- Press Generate Policy and copy the text\n",
    "\n",
    "<p align=\"center\">\n",
    "    <img src=\"images/Policy.PNG\" width=\"500\"/>\n",
    "</p>\n",
    "\n",
    "Go back to your bucket and go to the Permissions tab. In 'Bucket Policy' click Edit. Paste the text you copied and save changes.<br> \n",
    "Now your bucket is publicly accesible, and anyone can download your files. \n",
    "\n",
    "In your bucket, select the file you want to download, and copy the Object URL.\n",
    "\n",
    "<p align=\"center\">\n",
    "    <img src=\"images/URL.PNG\" width=\"500\"/>\n",
    "</p>\n",
    "\n",
    "Open a python editor or notebook and use the requests library to download the image from the URL you just copied. Something like this:"
   ]
  },
  {
   "cell_type": "code",
   "execution_count": null,
   "metadata": {},
   "outputs": [],
   "source": [
    "import requests\n",
    "# Change this with your URL\n",
    "url = {YOUR URL}\n",
    "response = requests.get(url)\n",
    "with open('image.png', 'wb') as f:\n",
    "    f.write(response.content)"
   ]
  },
  {
   "cell_type": "markdown",
   "metadata": {},
   "source": [
    "\n",
    "\n",
    "And that's it! you should be able to see the file in the same working directory."
   ]
  },
  {
   "cell_type": "markdown",
   "metadata": {},
   "source": []
  },
  {
   "cell_type": "markdown",
   "metadata": {},
   "source": [
    "# Challenges\n",
    "## 1. Cat Scraper\n",
    "\n",
    "1. Create an AWS S3 bucket (If you did it during the lesson, keep that one)\n",
    "2. Set the configuration of your AWS CLI\n",
    "3. In a python script, establish a client connection to the S3 bucket \n",
    "4. Download images of cute cats using Selenium\n",
    "    - Use Selenium to go to the following page: 'https://all-free-download.com/free-photos/cute-cat-jpg.html'\n",
    "    - Extract the 'src' attribute of each image in the first page\n",
    "    - With a context manager, create a temporary directory\n",
    "    - Inside the temporary directory, download all images from all the 'src' you extracted. Use urllib.request.urlretrieve for that purpose. \n",
    "    - Still, in the context manager, use the `upload_file` method from the instance you created in step 3\n",
    "5. Check that the images are not in your local computer, and that they are effectively, in your S3 bucket\n",
    "6. Once you are finished, save your cat scraper in a module (simply copy the code in a script), and name it `cat_scraper.py`. We will use this script in the next lesson."
   ]
  },
  {
   "cell_type": "code",
   "execution_count": null,
   "metadata": {},
   "outputs": [],
   "source": [
    "from selenium import webdriver\n",
    "import urllib.request\n",
    "import tempfile\n",
    "from tqdm import tqdm\n",
    "\n",
    "\n",
    "#%%\n",
    "# Go to the cute cats page\n",
    "ROOT = 'https://all-free-download.com/free-photos/cute-cat-jpg.html'\n",
    "### TODO: Your Code Here\n",
    "\n",
    "# Get the list of cat images\n",
    "elem = driver.find_element_by_class_name('imgcontainer')\n",
    "if elem:\n",
    "    img_list = elem.find_elements_by_class_name('img-responsive')\n",
    "    if img_list:\n",
    "        src_list = []\n",
    "        for src in img_list:\n",
    "            try:\n",
    "                src_list.append(src.get_attribute('src'))\n",
    "            except:\n",
    "                print('No source found')\n",
    "        # Create a temporary directory, so you don't store images in your local machine\n",
    "        with tempfile.TemporaryDirectory() as temp_dir:\n",
    "            for i, scr in enumerate(tqdm(src_list)):\n",
    "                ### TODO: Your Code here\n",
    "\n",
    "### Quit the driver\n",
    "### TODO: Your Code here"
   ]
  },
  {
   "cell_type": "markdown",
   "metadata": {},
   "source": []
  }
 ],
 "metadata": {
  "interpreter": {
   "hash": "569d6b7e9215e11aba41c6454007e5c1b78bad7df09dab765d8cf00362c40f03"
  },
  "kernelspec": {
   "display_name": "Python 3.9.1 64-bit ('base': conda)",
   "name": "python3"
  },
  "language_info": {
   "name": "python",
   "version": ""
  },
  "orig_nbformat": 4
 },
 "nbformat": 4,
 "nbformat_minor": 2
}