{
 "cells": [
  {
   "cell_type": "markdown",
   "source": [
    "# Kubernetes Configuration\n",
    "\n",
    "> `Kubernetes`, being as large as it is, __provides a few ways to configure various components via... yes, `.yaml` files.__\n",
    "\n",
    "# ConfigMaps\n",
    "\n",
    "> __API object used to store non-confidential data in key-value pairs__\n",
    "\n",
    "These can be consumed by `POD`s via:\n",
    "- `envvars`\n",
    "- command line\n",
    "- __config files in a `volume`__\n",
    "\n",
    "Why should we use them?\n",
    "\n",
    "> __Allows us to decouple environment specific configs from our container `images`__\n",
    "\n",
    "For example, our code might look for environment variable `DATABASE_HOST` which:\n",
    "- should be `localhost` for our development\n",
    "- should be `<SOME-IP:SOME-PORT>` for deployment\n",
    "\n",
    "Above can be set in aforementioned (up to `1Mb`, __which is plenty for most config files__).\n",
    "\n",
    "__Example config file__:"
   ],
   "metadata": {}
  },
  {
   "cell_type": "code",
   "execution_count": null,
   "source": [
    "apiVersion: v1\r\n",
    "kind: ConfigMap\r\n",
    "metadata:\r\n",
    "  name: game-demo\r\n",
    "data:\r\n",
    "  # property-like keys; each key maps to a simple value\r\n",
    "  player_initial_lives: \"3\"\r\n",
    "  ui_properties_file_name: \"user-interface.properties\"\r\n",
    "\r\n",
    "  # file-like keys\r\n",
    "  game.properties: |\r\n",
    "    enemy.types=aliens,monsters\r\n",
    "    player.maximum-lives=5    \r\n",
    "  user-interface.properties: |\r\n",
    "    color.good=purple\r\n",
    "    color.bad=yellow\r\n",
    "    allow.textmode=true  "
   ],
   "outputs": [],
   "metadata": {}
  },
  {
   "cell_type": "markdown",
   "source": [
    "Things to note:\n",
    "- __no `.spec`!__\n",
    "- `.data` and/or `.binaryData` fields\n",
    "- Multiline nested values one can later use (simulating `file` structure)\n",
    "\n",
    "Above can be consumed by `POD`s `config` file (__you should prefer this approach to consuming config files as it fits well with `kubectl apply`!__):"
   ],
   "metadata": {}
  },
  {
   "cell_type": "code",
   "execution_count": null,
   "source": [
    "apiVersion: v1\r\n",
    "kind: Pod\r\n",
    "metadata:\r\n",
    "  name: configmap-demo-pod\r\n",
    "spec:\r\n",
    "  containers:\r\n",
    "    - name: demo\r\n",
    "      image: alpine\r\n",
    "      command: [\"sleep\", \"3600\"]\r\n",
    "      env:\r\n",
    "        # Define the environment variable (should be uppercase)\r\n",
    "        - name: PLAYER_INITIAL_LIVES \r\n",
    "          # Where to take this envvar valueFrom\r\n",
    "          valueFrom:\r\n",
    "            # From configMapKeyRef(erence)\r\n",
    "            configMapKeyRef:\r\n",
    "              # Name of `ConfigMap`\r\n",
    "              name: game-demo          \r\n",
    "              key: player_initial_lives # The key to fetch.\r\n",
    "        - name: UI_PROPERTIES_FILE_NAME\r\n",
    "          valueFrom:\r\n",
    "            configMapKeyRef:\r\n",
    "              name: game-demo\r\n",
    "              key: ui_properties_file_name\r\n",
    "      # Mount ephemeral volume for config (POD life duration)\r\n",
    "      volumeMounts:\r\n",
    "      - name: config\r\n",
    "        mountPath: \"/config\"\r\n",
    "        readOnly: true\r\n",
    "  volumes:\r\n",
    "    # You set volumes at the Pod level, then mount them into containers inside that Pod\r\n",
    "    - name: config\r\n",
    "      configMap:\r\n",
    "        # Provide the name of the ConfigMap you want to mount.\r\n",
    "        name: game-demo\r\n",
    "        # An array of keys from the ConfigMap to create as files\r\n",
    "        items:\r\n",
    "        - key: \"game.properties\"\r\n",
    "          path: \"game.properties\"\r\n",
    "        - key: \"user-interface.properties\"\r\n",
    "          path: \"user-interface.properties\""
   ],
   "outputs": [],
   "metadata": {}
  },
  {
   "cell_type": "markdown",
   "source": [
    "Please notice that:\n",
    "- __Files will be automatically created from `ConfigMap`!__\n",
    "- Once they are within `POD` __we define how to consume them__ (e.g. reading `game.properties` mounted file from our `container`)\n",
    "- __If you omit the items array entirely__, every key in the ConfigMap becomes a file with the same name as the key, __and you get 4 files.__\n",
    "\n",
    "__Important features:__\n",
    "- __IF WE UPDATE `ConfigMap` THESE WILL BE AUTOMATICALLY UPDATED FOR OUR CONTAINERS TO READ FROM!__\n",
    "- Other parts of the program can use these values however we wish (as long as they are located in the same `POD`)\n",
    "- __One can also set the `ConfigMap`s to be immutable__ via `.immutable=true` flag (in this case __it won't be automatically updated__)\n",
    "\n",
    "Another example of mounting `ConfigMap`:"
   ],
   "metadata": {}
  },
  {
   "cell_type": "code",
   "execution_count": null,
   "source": [
    "apiVersion: v1\r\n",
    "kind: Pod\r\n",
    "metadata:\r\n",
    "  name: mypod\r\n",
    "spec:\r\n",
    "  containers:\r\n",
    "  - name: mypod\r\n",
    "    image: redis\r\n",
    "    volumeMounts:\r\n",
    "    - name: foo\r\n",
    "      mountPath: \"/etc/foo\"\r\n",
    "      readOnly: true\r\n",
    "  volumes:\r\n",
    "  - name: foo\r\n",
    "    configMap:\r\n",
    "      name: myconfigmap"
   ],
   "outputs": [],
   "metadata": {}
  },
  {
   "cell_type": "markdown",
   "source": [
    "In general:\n",
    "- Each `ConfigMap` needs it's respective `.spec.volumes` entry\n",
    "- Each container needs one `.spec.containers.volumeMounts` entry __per `ConfigMap`__\n",
    "- __As many `ConfigMap`s we need, we can create them__"
   ],
   "metadata": {}
  },
  {
   "cell_type": "markdown",
   "source": [
    "# Secrets\n",
    "\n",
    "> `Secrets` allow us to safely provide sensitive data for our application (e.g. `ssh` keys, logins, passwords etc.)\n",
    "\n",
    "Why should we do that?\n",
    "- __No way to inspect `container`'s `image` for secrets__\n",
    "- Not provided within the code\n",
    "- __It DOES NOT save us from revealing the secrets;__ one can still `print` them by accident, hence, as always __look out for revealing these parts!__\n",
    "\n",
    "In general:\n",
    "- Similar to `ConfigMaps`\n",
    "- Created independently from `POD`s\n",
    "- Additional precautions available like:\n",
    "    - Not writing to non-volatile memory (e.g. `disk` where one could read `secret`s from)\n",
    "    - Encrypting `secret`s at rest (see __Challenges__ at the end of the notebook __AND USE IT!__)\n",
    "- Once again: __not encrypted by default__ we need to set it up separately (yes, new `k8s` object defined with `.yaml`)\n",
    "- __One has to provide them as `base64` encoded strings__ (please notice: `base64` __IS NOT AN ENCRYPTION__ and should be regarded as provided in plain text)\n",
    "- __Created as resources__\n",
    "\n",
    "> __Secrets are stored by `etcd` in `base64` encoding, hence you really should set up a so called \"encryption at rest\"__"
   ],
   "metadata": {}
  },
  {
   "cell_type": "markdown",
   "source": [
    "## Types of `Secrets`\n",
    "\n",
    "> `k8s` provides various types of secrets for different use cases.\n",
    "\n",
    "There are:\n",
    "- built-in ones for common use cases\n",
    "- __we can define our own `type`s__\n",
    "\n",
    "Most common ones:\n",
    "\n",
    "- __Opaque Secret__ - __arbitrary `secret` data__; Default type (if ommited) of a `Secret`\n",
    "- `kubernetes.io/service-account-token` - stores a token identifying `Service` account\n",
    "\n",
    "Second one could be defined like this:"
   ],
   "metadata": {}
  },
  {
   "cell_type": "code",
   "execution_count": null,
   "source": [
    "apiVersion: v1\r\n",
    "kind: Secret\r\n",
    "metadata:\r\n",
    "  name: secret-sa-sample\r\n",
    "  annotations:\r\n",
    "    kubernetes.io/service-account.name: \"sa-name\"\r\n",
    "type: kubernetes.io/service-account-token\r\n",
    "data:\r\n",
    "  # You can include additional key value pairs as you do with Opaque Secrets\r\n",
    "  extra: YmFyCg=="
   ],
   "outputs": [],
   "metadata": {}
  },
  {
   "cell_type": "markdown",
   "source": [
    "> __When creating a Pod, Kubernetes automatically creates a service account Secret and automatically modifies your `Pod` to use this `Secret`. The service account token Secret contains credentials for accessing the API.__\n",
    "\n",
    "See [this part of documentation](https://kubernetes.io/docs/tasks/configure-pod-container/configure-service-account/) for more information.\n",
    "\n",
    "- `kubernetes.io/dockerconfigjson` - store a serialized `docker` configuration to be used by `POD` (e.g. `~/.docker/config.json` file)\n",
    "\n",
    "For example:"
   ],
   "metadata": {}
  },
  {
   "cell_type": "code",
   "execution_count": null,
   "source": [
    "apiVersion: v1\r\n",
    "kind: Secret\r\n",
    "metadata:\r\n",
    "  name: secret-dockercfg\r\n",
    "type: kubernetes.io/dockerconfigjson\r\n",
    "data:\r\n",
    "  .dockercfg: |\r\n",
    "        \"<base64 encoded ~/.docker/config.json file>\""
   ],
   "outputs": [],
   "metadata": {}
  },
  {
   "cell_type": "markdown",
   "source": [
    "Traits:\n",
    "- Validated by `API` whether it can be decoded as valid `JSON`\n",
    "- __Does not validate whether it is a correct `Docker` configuration `.json` file__"
   ],
   "metadata": {}
  },
  {
   "cell_type": "markdown",
   "source": [
    "### Basic Auth\n",
    "\n",
    "> __This type of secret is used for `username` and `password` storing__\n",
    "\n",
    "This one is the most common, but is __as easy as ever to use__:"
   ],
   "metadata": {}
  },
  {
   "cell_type": "code",
   "execution_count": null,
   "source": [
    "apiVersion: v1\r\n",
    "kind: Secret\r\n",
    "metadata:\r\n",
    "  name: secret-basic-auth\r\n",
    "type: kubernetes.io/basic-auth\r\n",
    "stringData:\r\n",
    "  username: admin\r\n",
    "  password: t0p-Secret\r\n",
    "# Immutable also supported\r\n",
    "immutable: true"
   ],
   "outputs": [],
   "metadata": {}
  },
  {
   "cell_type": "markdown",
   "source": [
    "> If we don't want to `base64` encode our `data` field, __we can use `stringData` instead!__\n",
    "\n",
    "### ssh-secrets\n",
    "\n",
    "As was the case previously, we might use `Opaque` secret type, but:\n",
    "- We would need to define our own structure of fields\n",
    "- __These WOULD NOT be verified__ (whether appropriate fields where added)\n",
    "\n",
    "Due to the above, __you should stick to provided `types` if possible__"
   ],
   "metadata": {}
  },
  {
   "cell_type": "code",
   "execution_count": null,
   "source": [
    "apiVersion: v1\n",
    "kind: Secret\n",
    "metadata:\n",
    "  name: secret-ssh-auth\n",
    "type: kubernetes.io/ssh-auth\n",
    "data:\n",
    "  # the data is abbreviated in this example\n",
    "  ssh-privatekey: |\n",
    "          MIIEpQIBAAKCAQEAulqb/Y ..."
   ],
   "outputs": [],
   "metadata": {}
  },
  {
   "cell_type": "markdown",
   "source": [
    "## Using `Secrets`\n",
    "\n",
    "> __This type of secret is used during `Node` bootstrap process!__\n",
    "\n",
    "One can:\n",
    "- Mount them as data volumes\n",
    "- Expose as `envvars` (see [here](https://kubernetes.io/docs/concepts/configuration/secret/#using-secrets-as-environment-variables) for information)\n",
    "\n",
    "As with `config` files one should be prefer mounting as:\n",
    "- It allows us to update `secrets` on the fly with `kubectl apply -R -f <dir>`\n",
    "- __Coherent usage with `config`s__ (less mental overhead)\n",
    "\n",
    "Let's see, how one can use them for `POD`s (__do not use \"bare `POD`s, use `workloads` instead!__):"
   ],
   "metadata": {}
  },
  {
   "cell_type": "code",
   "execution_count": null,
   "source": [
    "apiVersion: v1\n",
    "kind: Pod\n",
    "metadata:\n",
    "  name: secret-env-pod\n",
    "spec:\n",
    "  containers:\n",
    "  - name: mycontainer\n",
    "    image: redis\n",
    "    env:\n",
    "      - name: SECRET_USERNAME\n",
    "        valueFrom:\n",
    "          secretKeyRef:\n",
    "            name: mysecret\n",
    "            key: username\n",
    "      - name: SECRET_PASSWORD\n",
    "        valueFrom:\n",
    "          secretKeyRef:\n",
    "            name: mysecret\n",
    "            key: password\n",
    "  restartPolicy: Never"
   ],
   "outputs": [],
   "metadata": {}
  },
  {
   "cell_type": "markdown",
   "source": [
    "> __Referencing keys works the same as with `config`, e.g.: these are loaded as environment variables!__\n",
    "\n",
    "In the above case we will have `2` `envvars`:\n",
    "- `SECRET_USERNAME`\n",
    "- `SECRET_PASSWORD`\n",
    "\n",
    "We can use them from within our containers in our code."
   ],
   "metadata": {}
  },
  {
   "cell_type": "markdown",
   "source": [
    "# Managing Resources\n",
    "\n",
    "> ### One can specify various requirements (`RAM`, `CPU` or others) for `container`s within `POD`s\n",
    "\n",
    "There are two types of constraints one can specify:\n",
    "- `requests` - __at least this amount is needed__; used when scheduling `POD`s to different `Node`s\n",
    "- `limits` - __at most this amount will be used by `POD`__; as above + limits the resources available\n",
    "\n",
    "This section is pretty important as it allows us to \"help `k8s`\" to:\n",
    "- __efficiently schedule `POD`s across `Node`s__ (simplified example: if it's known that our container will use at most `1Gb` of RAM and we have `8Gb` available, `~8` `POD`s might be scheduled)\n",
    "\n",
    "Limits can be set:\n",
    "- `reactively` - when `container` uses too much resources system intervenes\n",
    "- by enforcement - when `container` tries too use too much resources __it is killed__\n",
    "\n",
    "> We will stick to `RAM` and `CPU` as it is the most common resource we would like to control\n",
    "\n",
    "One can also `request` and `limit` `GPU`s (for deep learning oriented applications). __See [here](https://kubernetes.io/docs/tasks/manage-gpus/scheduling-gpus/) for details__\n",
    "\n",
    "## Rules\n",
    "\n",
    "Some rules governing scheduling:\n",
    "\n",
    "- If a `Container` exceeds its memory limit, it might be terminated. If it is restartable, the `kubelet` will restart it, as with any other type of runtime failure.\n",
    "- If a `Container` exceeds its memory request, it is likely that its Pod will be evicted whenever the node runs out of memory.\n",
    "- A `Container` might or might not be allowed to exceed its CPU limit for extended periods of time. However, it will not be killed for excessive `CPU` usage.\n",
    "\n",
    "> __Above IS NOT user controlled, hence some issues may arise. Refer to [Troubleshooting](https://kubernetes.io/docs/concepts/configuration/manage-resources-containers/#troubleshooting) in case you suspect resource limits are to blame__\n",
    "\n",
    "\n",
    "## Defining\n",
    "\n",
    "- __Do it per-container__\n",
    "- Specify them within `resources` field, which can have:\n",
    "    - `requests` field\n",
    "    - `limits` field\n",
    "    \n",
    "Let's see an example:"
   ],
   "metadata": {}
  },
  {
   "cell_type": "code",
   "execution_count": null,
   "source": [
    "apiVersion: v1\n",
    "kind: Pod\n",
    "metadata:\n",
    "  name: frontend\n",
    "spec:\n",
    "  containers:\n",
    "  - name: app\n",
    "    image: images.my-company.example/app:v4\n",
    "    resources:\n",
    "      requests:\n",
    "        memory: \"64Mi\"\n",
    "        cpu: \"250m\"\n",
    "      limits:\n",
    "        memory: \"128Mi\"\n",
    "        cpu: \"500m\"\n",
    "  - name: log-aggregator\n",
    "    image: images.my-company.example/log-aggregator:v6\n",
    "    resources:\n",
    "      requests:\n",
    "        memory: \"64Mi\"\n",
    "        cpu: \"250m\"\n",
    "      limits:\n",
    "        memory: \"128Mi\"\n",
    "        cpu: \"500m\""
   ],
   "outputs": [],
   "metadata": {}
  },
  {
   "cell_type": "markdown",
   "source": [
    "# Challenges\n",
    "\n",
    "> ### Go through these challenges after whole `kubernetes` content is covered!\n",
    "\n",
    "## Mandatory\n",
    "\n",
    "- How to store our secrets? Best way to do that, would be to use `GitHub` (together with other cluster configuration files), __but we don't want others to see credentials__. Check [this blog post](https://learnk8s.io/kubernetes-secrets-in-git) which allows us to do it simply via assymetric encryption (and other means). Also [this repository](https://github.com/bitnami-labs/sealed-secrets) and [this one](https://github.com/Soluto/kamus). Any other ways you can think of storing them in `github` safely?\n",
    "- Read [Configuration Best Practices](https://kubernetes.io/docs/concepts/configuration/overview/) __and stick to them all the time!__\n",
    "- Check out [Use Cases of `secrets`](https://kubernetes.io/docs/concepts/configuration/secret/#use-cases)\n",
    "- Check out [Encrypting `secrets` at rest](https://kubernetes.io/docs/tasks/administer-cluster/encrypt-data/) __and use it all the time!__\n",
    "- Check out [Local Ephemeral Storage](https://kubernetes.io/docs/concepts/configuration/manage-resources-containers/#local-ephemeral-storage). What is it, how could we utilize it's functionalities?\n",
    "- Check out [this part of docs](https://kubernetes.io/docs/concepts/configuration/secret/#using-imagepullsecrets) to know how to `pull` images from our private registries with secrets.\n",
    "- Check out [Local Ephemeral Storage](https://kubernetes.io/docs/concepts/configuration/manage-resources-containers/#local-ephemeral-storage) and how to request it.\n",
    "\n",
    "## Additional\n",
    "\n",
    "- We can define how to spot `ConfigMap` updates (default: by watching directory). What are the other ways? Check out [this short intro](https://kubernetes.io/docs/concepts/configuration/configmap/#mounted-configmaps-are-updated-automatically)\n",
    "- Check out [HashiCorp's Vault](https://www.vaultproject.io/) project __as a better alternative__ for managing secrets. See [this guide](https://www.vaultproject.io/docs/platform/k8s) to get started and follow the links there.\n",
    "- Check [`RBAC rules`](https://kubernetes.io/docs/reference/access-authn-authz/authorization/). Whu should we use them with `Secrets`? \n",
    "- Check [`TLS Secrets`](https://kubernetes.io/docs/concepts/configuration/secret/#tls-secrets) for `Ingress`.\n",
    "- What are [`Bootstrap Secrets`](https://kubernetes.io/docs/concepts/configuration/secret/#bootstrap-token-secrets)? Should we use them? If so, what are the use cases?\n",
    "- Check out [`kubeconfig`](https://kubernetes.io/docs/concepts/configuration/organize-cluster-access-kubeconfig/) as a way to manage \"general\" (non-app specific) configuration"
   ],
   "metadata": {}
  }
 ],
 "metadata": {
  "kernelspec": {
   "display_name": "Bash [conda env:.conda-AiCore] *",
   "language": "bash",
   "name": "conda-env-.conda-AiCore-bash"
  },
  "language_info": {
   "codemirror_mode": "shell",
   "file_extension": ".sh",
   "mimetype": "text/x-sh",
   "name": "bash"
  }
 },
 "nbformat": 4,
 "nbformat_minor": 5
}