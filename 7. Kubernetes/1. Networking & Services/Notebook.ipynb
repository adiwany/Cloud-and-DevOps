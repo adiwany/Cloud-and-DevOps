{
 "cells": [
  {
   "cell_type": "markdown",
   "source": [
    "# TO ADD\n",
    "\n",
    "- https://kubernetes.io/docs/concepts/services-networking/connect-applications-service/ - example using command line and wondering around (mixed service and application)... Maybe should be done after `kubectl`?\n",
    "- Describe `Ingress` (access to Kubernetes cluster outside the cluster)\n",
    "- Ingress vs LoadBalancers and NodePorts: https://platform9.com/blog/understanding-kubernetes-loadbalancer-vs-nodeport-vs-ingress/\n",
    "\n",
    "\n",
    "> Network policies: https://kubernetes.io/docs/concepts/services-networking/network-policies/"
   ],
   "metadata": {}
  },
  {
   "cell_type": "markdown",
   "source": [
    "# Networking & Services\n",
    "\n",
    "Networking capabilities addresses:\n",
    "- __Containers networking within `POD`__ use `loopback` for communication\n",
    "- __Cluster networking between different `POD`s__\n",
    "- __`Service` resource__ - exposes application running in `POD`s __to the outside world__ (or for within cluster consumption)\n",
    "\n",
    "> `loopback` routes signal back to the source (in our case from the same `IP` to the same `IP` address)"
   ],
   "metadata": {}
  },
  {
   "cell_type": "markdown",
   "source": [
    "# Service\n",
    "\n",
    "> __An abstract way to expose an application running on a set of Pods as a network service__\n",
    "\n",
    "Below is an example motivation for `Service`'s existence:\n",
    "\n",
    "- Each `POD` has it's own IP address\n",
    "- `POD`s are dynamically created and deleted (say, via `Deployment` resource workload)\n",
    "- How to communicate with this dynamically change'able `set`?\n",
    "\n",
    "> __Service defines a logical set of `POD`s and a `policy` to access them__\n",
    "\n",
    "## Defining\n",
    "\n",
    "As per usual, `Service` is defined via posting REST request to `kube-apiserver` (yeah, using `.yaml` config all in all and `kubelet`):"
   ],
   "metadata": {}
  },
  {
   "cell_type": "code",
   "execution_count": null,
   "source": [
    "apiVersion: v1\r\n",
    "kind: Service\r\n",
    "metadata:\r\n",
    "  name: my-service\r\n",
    "spec:\r\n",
    "  selector:\r\n",
    "    app: MyApp\r\n",
    "  ports:\r\n",
    "    - protocol: TCP\r\n",
    "      targetPort: 9376\r\n",
    "      port: 80"
   ],
   "outputs": [],
   "metadata": {}
  },
  {
   "cell_type": "markdown",
   "source": [
    "There are a few distinctions between `Service` and `Workload resource`s we saw last time:\n",
    "- __`Service` does not create `POD`s__\n",
    "- __`Service` manages `POD`s__ which are matched based on selector\n",
    "- new `ports` field\n",
    "\n",
    "### `ports`\n",
    "\n",
    "> `ports` specify how to forward requests to `POD`s matching `selector`\n",
    "\n",
    "In this case:\n",
    "- Use `tcp` protocol\n",
    "- Forward requests to `POD`s port `9376`\n",
    "- Make `Service` itself available under port `80`\n",
    "\n",
    "Kubernetes will assign `IP` address to this service using which we can communicate with all of the matching `POD`s (these are continuously scanned)\n",
    "\n",
    "> One can specify multiple `ports` for other network components to query\n",
    "\n",
    "Example of multiple `ports` (`name` is used to disambiguate between `port`s):"
   ],
   "metadata": {}
  },
  {
   "cell_type": "code",
   "execution_count": null,
   "source": [
    "---\r\n",
    "kind: Service\r\n",
    "apiVersion: v1\r\n",
    "metadata:\r\n",
    "  name: my-service\r\n",
    "spec:\r\n",
    "  selector:\r\n",
    "    app: MyApp\r\n",
    "  ports:\r\n",
    "  - name: management \r\n",
    "    # TCP is default protocol\r\n",
    "    port: 80\r\n",
    "    targetPort: 8000\r\n",
    "  - name: query \r\n",
    "    protocol: TCP\r\n",
    "    port: 81\r\n",
    "    targetPort: 8001"
   ],
   "outputs": [],
   "metadata": {}
  },
  {
   "cell_type": "markdown",
   "source": [
    "For each `Service`'s defined `port` new `Endpoint` k8s object is defined implicitly.\n",
    "\n",
    "> Maximum number of `endpoints` (ports in this case) for `service` is `1000`, otherwise __these are truncated__\n",
    "\n",
    "Example `Endpoint` configuration can be seen below:"
   ],
   "metadata": {}
  },
  {
   "cell_type": "code",
   "execution_count": null,
   "source": [
    "apiVersion: v1\r\n",
    "kind: Endpoints\r\n",
    "metadata:\r\n",
    "  name: my-service\r\n",
    "subsets:\r\n",
    "  - addresses:\r\n",
    "      - ip: 192.0.2.42\r\n",
    "    ports:\r\n",
    "      - port: 9376"
   ],
   "outputs": [],
   "metadata": {}
  },
  {
   "cell_type": "markdown",
   "source": [
    "## Endpoint Slices\n",
    "\n",
    "> Solution to scaling number of `Endpoint`s for ever growing services\n",
    "\n",
    "As `Endpoints` were getting larger each change would inflict a lot of work on `control plane` of Kubernetes.\n",
    "\n",
    "`EndpointSlice`s also allow us to define topological routing (described later) and __are automatically created for `k8s` `Service` with `.spec.selector`__.\n",
    "\n",
    "> __`Endpoint Slices` group endpoints together based on unique combination of `protocol`, `port` and `Service name`!__\n",
    "\n",
    "Defining `EndpointSlice` can be done as described below:"
   ],
   "metadata": {}
  },
  {
   "cell_type": "code",
   "execution_count": null,
   "source": [
    "apiVersion: discovery.k8s.io/v1\r\n",
    "kind: EndpointSlice\r\n",
    "metadata:\r\n",
    "  name: example-abc\r\n",
    "  labels:\r\n",
    "    kubernetes.io/service-name: example\r\n",
    "addressType: IPv4\r\n",
    "ports:\r\n",
    "  - name: http\r\n",
    "    protocol: TCP\r\n",
    "    port: 80\r\n",
    "endpoints:\r\n",
    "  - addresses:\r\n",
    "      - \"10.1.2.3\"\r\n",
    "    conditions:\r\n",
    "      ready: true\r\n",
    "    hostname: pod-1\r\n",
    "    nodeName: node-1\r\n",
    "    zone: us-west2-a"
   ],
   "outputs": [],
   "metadata": {}
  },
  {
   "cell_type": "markdown",
   "source": [
    "- address types: `IPv4`, `IPv6` or `Fully Qualified Domain Name`\n",
    "- conditions: info about grouped `endpoints`, one of:\n",
    "    - `ready` - meaning `Endpoint` is ready to serve request\n",
    "    - `serving`  - the same, __but also fine when `Endpoint` is terminating but still can take `request`__\n",
    "    - `terminating`\n",
    "- __topology information__:\n",
    "    - `nodeName`: name of node the endpoint is on\n",
    "    - `zone`: zone `Node` is in\n",
    "    \n",
    "Additional features:\n",
    "- `EndpointSlice`belongs to `Service` of which `endpoint`s are managed\n",
    "- Same `Endpoint` might be available through multiple `EndpointSlice`s\n",
    "\n",
    "## Back to `Service`... Traffic policies\n",
    "\n",
    "> Traffic policies allow us to specify how the traffic should be routed between `Node`s\n",
    "\n",
    "There are two policies one can set:\n",
    "- External traffic policy - how traffic from __external sources__ is routed (__from outside cluster__)\n",
    "- Internal traffic policy - how traffic __within-cluster__ is routed\n",
    "\n",
    "Both of them support two modes via `.spec.externalTrafficPolicy`:\n",
    "- `Local`:\n",
    "    - __preserves client source `IP`__\n",
    "    - Risks potentially imbalanced traffic (more on `load balancing` later)\n",
    "- `Cluster`\n",
    "\n",
    "## Discovering services\n",
    "\n",
    "> __Discovering services specifies how one can find info about `Service` both from `POD` being part of it as well as outside environment__\n",
    "\n",
    "There are two ways to do that:\n",
    "- `ENVIRONMENT_VARIABLES`\n",
    "- `DNS`\n",
    "\n",
    "### Environment Variables\n",
    "\n",
    "> When a `POD` is run a set of `envvars` is automatically added describing `Service` which it belongs to\n",
    "\n",
    "For example, the `Service` `redis-master` which exposes TCP port `6379` and has been allocated cluster IP address `10.0.0.11`, produces the following environment variables:"
   ],
   "metadata": {}
  },
  {
   "cell_type": "code",
   "execution_count": null,
   "source": [
    "REDIS_MASTER_SERVICE_HOST=10.0.0.11\r\n",
    "REDIS_MASTER_SERVICE_PORT=6379\r\n",
    "REDIS_MASTER_PORT=tcp://10.0.0.11:6379\r\n",
    "REDIS_MASTER_PORT_6379_TCP=tcp://10.0.0.11:6379\r\n",
    "REDIS_MASTER_PORT_6379_TCP_PROTO=tcp\r\n",
    "REDIS_MASTER_PORT_6379_TCP_PORT=6379\r\n",
    "REDIS_MASTER_PORT_6379_TCP_ADDR=10.0.0.11"
   ],
   "outputs": [],
   "metadata": {}
  },
  {
   "cell_type": "markdown",
   "source": [
    "One can use the above values to act accordingly to `Service` handling the request.\n",
    "\n",
    "### DNS\n",
    "\n",
    "> __One should always set up `DNS` service for `k8s` clusters__\n",
    "\n",
    "One can describe `DNS` as:\n",
    "\n",
    "> __Phonebook of the internet. Given a name, appropriate `IP` address is returned__\n",
    "\n",
    "If `DNS` is enabled cluster gains the following capabilities:\n",
    "- All `POD`s are able to resolve `Service`s based on their name\n",
    "- One can find `ports` by their name (`DNS SRV` (Service), for example `_http._tcp.my-service`)\n",
    "- Only way to use `ExternalName` resource (described later)\n",
    "\n",
    "Later, during configuration lesson we will se how one can configure `CoreDNS` (standard for `DNS` with `k8s`) to work with our cluster"
   ],
   "metadata": {}
  },
  {
   "cell_type": "markdown",
   "source": [
    "## Publishing Services\n",
    "\n",
    "> Sometimes (for example frontend) we might want to publish our service to external IP we have (outside of cluster)\n",
    "\n",
    "There are a few `ServiceType`s one can use to describe the type of the `Service` we want (including the one above):\n",
    "\n",
    "- `ClusterIP` - __default__, `Service` reachable only from within the cluster\n",
    "- `NodePort` - exposes `Service` on each of it's `Node`s on a specified `port`. __One can reach `Service` from outside via `<NodeIP>:<NodePort>` FOR EACH NODE__ \n",
    "- `LoadBalancer` - Exposes the `Service` externally using a cloud provider's load balancer\n",
    "- `ExternalName` - Maps the `Service` to the contents of the `externalName` field (e.g. `foo.bar.example.com`)\n",
    "\n",
    "Example of `NodePort` could be:"
   ],
   "metadata": {}
  },
  {
   "cell_type": "code",
   "execution_count": null,
   "source": [
    "apiVersion: v1\r\n",
    "kind: Service\r\n",
    "metadata:\r\n",
    "  name: my-service\r\n",
    "spec:\r\n",
    "  type: NodePort\r\n",
    "  selector:\r\n",
    "    app: MyApp\r\n",
    "  ports:\r\n",
    "      # By default and for convenience, the `targetPort` is set to the same value as the `port` field.\r\n",
    "    - port: 80\r\n",
    "      targetPort: 80\r\n",
    "      # Optional field\r\n",
    "      # By default and for convenience, the Kubernetes control plane will allocate a port from a range (default: 30000-32767)\r\n",
    "      nodePort: 30007"
   ],
   "outputs": [],
   "metadata": {}
  },
  {
   "cell_type": "markdown",
   "source": [
    "### LoadBalancer\n",
    "\n",
    "> `LoadBalancer` is a way to (more or less) uniformly distribute requests across `Node`s\n",
    "\n",
    "These are often provided by cloud providers (one can also specify a different one via [`.spec.loadBalancerClass`](https://kubernetes.io/docs/concepts/services-networking/service/#load-balancer-class).\n",
    "\n",
    "> __We will later talk about `Ingress` where we will see a little more about this concept__\n",
    "\n",
    "By default `Ingress` will be used and it will be presented in `k8s` added `.status` field (__this one, once again, is not specified__):"
   ],
   "metadata": {}
  },
  {
   "cell_type": "code",
   "execution_count": null,
   "source": [
    "apiVersion: v1\r\n",
    "kind: Service\r\n",
    "metadata:\r\n",
    "  name: my-service\r\n",
    "spec:\r\n",
    "  selector:\r\n",
    "    app: MyApp\r\n",
    "  ports:\r\n",
    "    - protocol: TCP\r\n",
    "      port: 80\r\n",
    "      targetPort: 9376\r\n",
    "  clusterIP: 10.0.171.239\r\n",
    "  type: LoadBalancer\r\n",
    "status:\r\n",
    "  loadBalancer:\r\n",
    "    ingress:\r\n",
    "    - ip: 192.0.2.127"
   ],
   "outputs": [],
   "metadata": {}
  },
  {
   "cell_type": "markdown",
   "source": [
    "For cloud environments, one can specify `loadBalancer` via `metadata.annotations` (we will talk about them in more detail later) within your `Service` configuration.\n",
    "\n",
    "Larger list can be found [here](https://kubernetes.io/docs/concepts/services-networking/service/#internal-load-balancer):"
   ],
   "metadata": {}
  },
  {
   "cell_type": "code",
   "execution_count": null,
   "source": [
    "[...]\r\n",
    "metadata:\r\n",
    "    name: my-service\r\n",
    "    annotations:\r\n",
    "        service.beta.kubernetes.io/aws-load-balancer-internal: \"true\"\r\n",
    "[...]"
   ],
   "outputs": [],
   "metadata": {}
  },
  {
   "cell_type": "markdown",
   "source": [
    "### ExternalName\n",
    "\n",
    "Code below maps service to external `DNS` name:"
   ],
   "metadata": {}
  },
  {
   "cell_type": "code",
   "execution_count": null,
   "source": [
    "apiVersion: v1\r\n",
    "kind: Service\r\n",
    "metadata:\r\n",
    "  name: my-service\r\n",
    "  namespace: prod\r\n",
    "spec:\r\n",
    "  type: ExternalName\r\n",
    "  externalName: my.database.example.com"
   ],
   "outputs": [],
   "metadata": {}
  },
  {
   "cell_type": "markdown",
   "source": [
    "# Ingress\n",
    "\n",
    "> `Kubernetes` object that manages external access to the services in a cluster\n",
    "\n",
    "![](./images/ingress-one-service.png)\n",
    "\n",
    "A few features:\n",
    "- exposes `HTTP`/`HTTPS` from outside cluster to `Service`s within cluster\n",
    "- may provide `load balancing`\n",
    "- may provide `SSL Termination` (decryption of data sent to cluster via `SSL`)\n",
    "\n",
    "One has to install `ingress controller` of some sorts, available options are described [here](https://kubernetes.io/docs/concepts/services-networking/ingress-controllers/).\n",
    "\n",
    "## Defining resource\n",
    "\n",
    "As per usual, `.yaml` config:"
   ],
   "metadata": {}
  },
  {
   "cell_type": "code",
   "execution_count": null,
   "source": [
    "---\r\n",
    "apiVersion: networking.k8s.io/v1\r\n",
    "kind: Ingress\r\n",
    "metadata:\r\n",
    "  name: minimal-ingress\r\n",
    "  annotations:\r\n",
    "    nginx.ingress.kubernetes.io/rewrite-target: /\r\n",
    "spec:\r\n",
    "  rules:\r\n",
    "  - http:\r\n",
    "      paths:\r\n",
    "      - path: /testpath\r\n",
    "        pathType: Prefix\r\n",
    "        backend:\r\n",
    "          service:\r\n",
    "            name: test\r\n",
    "            port:\r\n",
    "              number: 80"
   ],
   "outputs": [],
   "metadata": {}
  },
  {
   "cell_type": "markdown",
   "source": [
    "Let's talk about these arguments in more detail\n",
    "\n",
    "> ### ADD THIS CONTENT: https://kubernetes.io/docs/concepts/services-networking/ingress/#the-ingress-resource"
   ],
   "metadata": {}
  },
  {
   "cell_type": "markdown",
   "source": [
    "# Network Policies\n",
    "\n",
    "> ### Describe Network Policies from [here](https://kubernetes.io/docs/concepts/services-networking/network-policies/)"
   ],
   "metadata": {}
  },
  {
   "cell_type": "markdown",
   "source": [
    "# Challenges\n",
    "\n",
    "## Mandatory\n",
    "\n",
    "- What is [`HeadlessService`](https://kubernetes.io/docs/concepts/services-networking/service/#headless-services) and why might we need one?\n",
    "- What are [Topology Aware Hints](https://kubernetes.io/docs/concepts/services-networking/topology-aware-hints/) and how can the improve our application's responsiveness and performance?\n",
    "\n",
    "\n",
    "## Additional\n",
    "\n",
    "- One can use `Service` without `.spec.selector`. Why would we want that? Check out [this part of documentation](https://kubernetes.io/docs/concepts/services-networking/service/#services-without-selectors) for more information\n",
    "- How are `EndpointSlices` updated via `control plane`? Check [this part of documentation](https://kubernetes.io/docs/concepts/services-networking/endpoint-slices/#distribution-of-endpointslices). Are new `EndpointSlices` created or updated when new `POD`s join the `Service`? \n",
    "- Check out how signal goes through `k8s` infrastructure up to the `POD` [here](https://kubernetes.io/docs/concepts/services-networking/service/#proxy-mode-userspace). What's the difference between [user space mode](https://kubernetes.io/docs/concepts/services-networking/service/#proxy-mode-userspace), the one based on [`ip tables`](https://kubernetes.io/docs/concepts/services-networking/service/#proxy-mode-iptables) and [`IPVS` proxy mode](https://kubernetes.io/docs/concepts/services-networking/service/#proxy-mode-ipvs)? How `kube-proxy` chooses which `POD` to choose for traffic in first second or third case?\n",
    "- What's [Round Robin Scheduling](https://en.wikipedia.org/wiki/Round-robin_scheduling? and how is it used in `k8s`? "
   ],
   "metadata": {}
  }
 ],
 "metadata": {
  "kernelspec": {
   "display_name": "Bash [conda env:.conda-AiCore] *",
   "language": "bash",
   "name": "conda-env-.conda-AiCore-bash"
  },
  "language_info": {
   "codemirror_mode": "shell",
   "file_extension": ".sh",
   "mimetype": "text/x-sh",
   "name": "bash"
  }
 },
 "nbformat": 4,
 "nbformat_minor": 5
}