{
 "cells": [
  {
   "cell_type": "markdown",
   "id": "6ebdb506",
   "metadata": {},
   "source": [
    "# Minikube\n",
    "\n",
    "> `minikube` is a minimal release of Kubernetes which allows us to create mini-cluster on `localhost`\n",
    "\n",
    "This version is useful to:\n",
    "- learn and experiment with Kubernetes\n",
    "- develop applications locally (`dev` centered approach)\n",
    "\n",
    "Minimal requirements:\n",
    "- 2 CPUs\n",
    "- 2 GB free RAM memory\n",
    "- 20 GB free disk space\n",
    "- Container or VM (previously setup `docker` is fine)\n",
    "\n",
    "> `minikube` will use docker container (or VM) to imitate single working node on your `localhost`\n",
    "\n",
    "\n",
    "## Installation\n",
    "\n",
    "Please refer to [installation](https://minikube.sigs.k8s.io/docs/start/) in the documentation.\n",
    "\n",
    "For Linux:\n",
    "- Use package manager of your distribution\n",
    "- Or run the following shell script:"
   ]
  },
  {
   "cell_type": "code",
   "execution_count": null,
   "id": "ec863cde",
   "metadata": {},
   "outputs": [],
   "source": [
    "curl -LO https://storage.googleapis.com/minikube/releases/latest/minikube-linux-amd64\n",
    "sudo install minikube-linux-amd64 /usr/local/bin/minikube"
   ]
  },
  {
   "cell_type": "markdown",
   "id": "f3f63b5f",
   "metadata": {},
   "source": [
    "As Kubernetes (and `minikube` also) is written in `golang` it has the following features:\n",
    "- Compiled binary: __download appropriate version and it is ready to run__\n",
    "- Static linking: no folders, structures or dependencies, __everything is contained within the binary__"
   ]
  },
  {
   "cell_type": "code",
   "execution_count": null,
   "id": "46edfb78",
   "metadata": {},
   "outputs": [],
   "source": [
    "minikube --help"
   ]
  },
  {
   "cell_type": "markdown",
   "id": "ac766913",
   "metadata": {},
   "source": [
    "In order to start `kubernetes` server a simple command can be used:"
   ]
  },
  {
   "cell_type": "code",
   "execution_count": null,
   "id": "491a55b6",
   "metadata": {},
   "outputs": [],
   "source": [
    "minikube start"
   ]
  },
  {
   "cell_type": "markdown",
   "id": "f7005810",
   "metadata": {},
   "source": [
    "We can also start `kubernetes` dashboard which allows us to:\n",
    "- monitor our deployment\n",
    "- monitor status of the cluster\n",
    "- monitor storage and persistent volumes\n",
    "- check secrets provided \n",
    "\n",
    "After selecting `all namespaces` at the top bar we should see something along these lines:\n",
    "\n",
    "![](./images/kubernetes-dashboard.png)"
   ]
  },
  {
   "cell_type": "markdown",
   "id": "9a080cd3",
   "metadata": {},
   "source": [
    "# kubectl\n",
    "\n",
    "> __`kubectl` allows us to interact with `cluster` (e.g. deploy our configs, monitor PODs etc.)__\n",
    "\n",
    "While `minikube` offers a way to use `kubectl` (and download appropriate version) we will install it separately:\n",
    "\n",
    "### Installation\n",
    "\n",
    "Check out the following [link](https://kubernetes.io/docs/tasks/tools/#kubectl) and choose appropriate OS.\n",
    "\n",
    "For `Linux`, one can also download it via `curl` (still `golang` distributed binary) and install with `root` permissions using two commands below:"
   ]
  },
  {
   "cell_type": "code",
   "execution_count": null,
   "id": "ec383631",
   "metadata": {},
   "outputs": [],
   "source": [
    "# Download\n",
    "curl -LO \"https://dl.k8s.io/release/$(curl -L -s https://dl.k8s.io/release/stable.txt)/bin/linux/amd64/kubectl\""
   ]
  },
  {
   "cell_type": "code",
   "execution_count": null,
   "id": "837abc5d",
   "metadata": {},
   "outputs": [],
   "source": [
    "# Installation with `sudo`\n",
    "sudo install -o root -g root -m 0755 kubectl /usr/local/bin/kubectl"
   ]
  },
  {
   "cell_type": "markdown",
   "id": "d01b3210",
   "metadata": {},
   "source": [
    "> __`kubectl` should also be available via package managers on most major OSes and Linux distros__\n",
    "\n",
    "Verify `kubectl` is available by running the cell below (use `!` if you don't have `bash` kernel for `jupyter` notebook):"
   ]
  },
  {
   "cell_type": "code",
   "execution_count": 1,
   "id": "ad760506",
   "metadata": {
    "ExecuteTime": {
     "end_time": "2021-08-22T20:55:19.810574Z",
     "start_time": "2021-08-22T20:55:19.606099Z"
    }
   },
   "outputs": [
    {
     "name": "stdout",
     "output_type": "stream",
     "text": [
      "kubectl controls the Kubernetes cluster manager.\n",
      "\n",
      " Find more information at:\n",
      "https://kubernetes.io/docs/reference/kubectl/overview/\n",
      "\n",
      "Basic Commands (Beginner):\n",
      "  create        Create a resource from a file or from stdin.\n",
      "  expose        Take a replication controller, service, deployment or pod and\n",
      "expose it as a new Kubernetes Service\n",
      "  run           Run a particular image on the cluster\n",
      "  set           Set specific features on objects\n",
      "\n",
      "Basic Commands (Intermediate):\n",
      "  explain       Documentation of resources\n",
      "  get           Display one or many resources\n",
      "  edit          Edit a resource on the server\n",
      "  delete        Delete resources by filenames, stdin, resources and names, or by\n",
      "resources and label selector\n",
      "\n",
      "Deploy Commands:\n",
      "  rollout       Manage the rollout of a resource\n",
      "  scale         Set a new size for a Deployment, ReplicaSet or Replication\n",
      "Controller\n",
      "  autoscale     Auto-scale a Deployment, ReplicaSet, StatefulSet, or\n",
      "ReplicationController\n",
      "\n",
      "Cluster Management Commands:\n",
      "  certificate   Modify certificate resources.\n",
      "  cluster-info  Display cluster info\n",
      "  top           Display Resource (CPU/Memory) usage.\n",
      "  cordon        Mark node as unschedulable\n",
      "  uncordon      Mark node as schedulable\n",
      "  drain         Drain node in preparation for maintenance\n",
      "  taint         Update the taints on one or more nodes\n",
      "\n",
      "Troubleshooting and Debugging Commands:\n",
      "  describe      Show details of a specific resource or group of resources\n",
      "  logs          Print the logs for a container in a pod\n",
      "  attach        Attach to a running container\n",
      "  exec          Execute a command in a container\n",
      "  port-forward  Forward one or more local ports to a pod\n",
      "  proxy         Run a proxy to the Kubernetes API server\n",
      "  cp            Copy files and directories to and from containers.\n",
      "  auth          Inspect authorization\n",
      "  debug         Create debugging sessions for troubleshooting workloads and\n",
      "nodes\n",
      "\n",
      "Advanced Commands:\n",
      "  diff          Diff live version against would-be applied version\n",
      "  apply         Apply a configuration to a resource by filename or stdin\n",
      "  patch         Update field(s) of a resource\n",
      "  replace       Replace a resource by filename or stdin\n",
      "  wait          Experimental: Wait for a specific condition on one or many\n",
      "resources.\n",
      "  kustomize     Build a kustomization target from a directory or URL.\n",
      "\n",
      "Settings Commands:\n",
      "  label         Update the labels on a resource\n",
      "  annotate      Update the annotations on a resource\n",
      "  completion    Output shell completion code for the specified shell (bash or\n",
      "zsh)\n",
      "\n",
      "Other Commands:\n",
      "  api-resources Print the supported API resources on the server\n",
      "  api-versions  Print the supported API versions on the server, in the form of\n",
      "\"group/version\"\n",
      "  config        Modify kubeconfig files\n",
      "  plugin        Provides utilities for interacting with plugins.\n",
      "  version       Print the client and server version information\n",
      "\n",
      "Usage:\n",
      "  kubectl [flags] [options]\n",
      "\n",
      "Use \"kubectl <command> --help\" for more information about a given command.\n",
      "Use \"kubectl options\" for a list of global command-line options (applies to all\n",
      "commands).\n",
      "\u001b[?2004h"
     ]
    },
    {
     "ename": "",
     "evalue": "1",
     "output_type": "error",
     "traceback": []
    }
   ],
   "source": [
    "kubectl --help"
   ]
  },
  {
   "cell_type": "markdown",
   "id": "c4283460",
   "metadata": {},
   "source": [
    "## `kubectl` syntax\n",
    "\n",
    "In general, when using `kubectl` the following could be used:"
   ]
  },
  {
   "cell_type": "code",
   "execution_count": null,
   "id": "25cbea19",
   "metadata": {},
   "outputs": [],
   "source": [
    "kubectl [command] [TYPE] [NAME] [flags]"
   ]
  },
  {
   "cell_type": "markdown",
   "id": "00ac87b9",
   "metadata": {},
   "source": [
    "where:\n",
    "\n",
    "- `command` - specifies operation one wants to perform (e.g. `get`, `describe`)\n",
    "- `TYPE` - specifies resource type; __case in-sensitive, works with abbreviations and plurals__\n",
    "\n",
    "For example, these commands do the same thing:"
   ]
  },
  {
   "cell_type": "code",
   "execution_count": 2,
   "id": "865d3f0a",
   "metadata": {
    "ExecuteTime": {
     "end_time": "2021-08-22T21:20:31.712712Z",
     "start_time": "2021-08-22T21:20:30.631917Z"
    }
   },
   "outputs": [
    {
     "name": "stdout",
     "output_type": "stream",
     "text": [
      "NAME                                READY   STATUS    RESTARTS   AGE\n",
      "nginx-deployment-66b6c48dd5-8z2j9   1/1     Running   1          5d\n",
      "nginx-deployment-66b6c48dd5-bd2lq   1/1     Running   1          5d\n",
      "nginx-deployment-66b6c48dd5-jv8zh   1/1     Running   1          5d\n",
      "NAME                                READY   STATUS    RESTARTS   AGE\n",
      "nginx-deployment-66b6c48dd5-8z2j9   1/1     Running   1          5d\n",
      "nginx-deployment-66b6c48dd5-bd2lq   1/1     Running   1          5d\n",
      "nginx-deployment-66b6c48dd5-jv8zh   1/1     Running   1          5d\n",
      "NAME                                READY   STATUS    RESTARTS   AGE\n",
      "nginx-deployment-66b6c48dd5-8z2j9   1/1     Running   1          5d\n",
      "nginx-deployment-66b6c48dd5-bd2lq   1/1     Running   1          5d\n",
      "nginx-deployment-66b6c48dd5-jv8zh   1/1     Running   1          5d\n",
      "\u001b[?2004h"
     ]
    },
    {
     "ename": "",
     "evalue": "1",
     "output_type": "error",
     "traceback": []
    }
   ],
   "source": [
    "kubectl get pod\n",
    "kubectl get pods\n",
    "kubectl get po"
   ]
  },
  {
   "cell_type": "markdown",
   "id": "4a705018",
   "metadata": {},
   "source": [
    "- `NAME` - specifies name of the resource; __can be ommitted, if so, will return everything__ (e.g. `kubectl get pods` as seen above)\n",
    "\n",
    "We might:\n",
    "- specify multiple `names` __of same `TYPE`__, e.g.:"
   ]
  },
  {
   "cell_type": "code",
   "execution_count": 5,
   "id": "bdac8582",
   "metadata": {
    "ExecuteTime": {
     "end_time": "2021-08-22T21:27:46.556037Z",
     "start_time": "2021-08-22T21:27:46.300033Z"
    }
   },
   "outputs": [
    {
     "name": "stdout",
     "output_type": "stream",
     "text": [
      "NAME                                READY   STATUS    RESTARTS   AGE\n",
      "nginx-deployment-66b6c48dd5-8z2j9   1/1     Running   1          5d\n",
      "nginx-deployment-66b6c48dd5-bd2lq   1/1     Running   1          5d\n",
      "\u001b[?2004h"
     ]
    },
    {
     "ename": "",
     "evalue": "1",
     "output_type": "error",
     "traceback": []
    }
   ],
   "source": [
    "kubectl get pods nginx-deployment-66b6c48dd5-8z2j9 nginx-deployment-66b6c48dd5-bd2lq"
   ]
  },
  {
   "cell_type": "markdown",
   "id": "7d52b60b",
   "metadata": {},
   "source": [
    "- If we have multiple resources __of different `TYPE`s__ we use __`TYPE`/`name` `ANOTHER_TYPE`/`name`__ and so on:"
   ]
  },
  {
   "cell_type": "code",
   "execution_count": 6,
   "id": "890d71da",
   "metadata": {
    "ExecuteTime": {
     "end_time": "2021-08-22T21:29:43.929695Z",
     "start_time": "2021-08-22T21:29:43.686338Z"
    }
   },
   "outputs": [
    {
     "name": "stdout",
     "output_type": "stream",
     "text": [
      "Error from server (NotFound): pods \"example-pod1\" not found\n",
      "Error from server (NotFound): replicationcontrollers \"example-rc1\" not found\n",
      "\u001b[?2004h"
     ]
    },
    {
     "ename": "",
     "evalue": "1",
     "output_type": "error",
     "traceback": []
    }
   ],
   "source": [
    "kubectl get pod/example-pod1 replicationcontroller/example-rc1"
   ]
  },
  {
   "cell_type": "markdown",
   "id": "af4c8d67",
   "metadata": {},
   "source": [
    "- Find `POD`s for specific config files:"
   ]
  },
  {
   "cell_type": "code",
   "execution_count": 7,
   "id": "a4081686",
   "metadata": {
    "ExecuteTime": {
     "end_time": "2021-08-22T21:31:00.749775Z",
     "start_time": "2021-08-22T21:31:00.508157Z"
    }
   },
   "outputs": [
    {
     "name": "stdout",
     "output_type": "stream",
     "text": [
      "the path \"./config/pod.yaml\" does not exist\n",
      "the path \"./config/service.yaml\" does not exist\n",
      "\u001b[?2004h"
     ]
    },
    {
     "ename": "",
     "evalue": "1",
     "output_type": "error",
     "traceback": []
    }
   ],
   "source": [
    "kubectl get -f ./config/pod.yaml -f ./config/service.yaml"
   ]
  },
  {
   "cell_type": "markdown",
   "id": "7f4cf9e0",
   "metadata": {},
   "source": [
    "## Operations\n",
    "\n",
    "Thing to note before moving on:\n",
    "\n",
    "> ### Prefer to use `.yaml` configs to `kubectl` ad-hoc commands wherever possible!\n",
    "\n",
    "hence: \n",
    "\n",
    "> __Below the most useful ones are provided, full list can be seen [here](https://kubernetes.io/docs/reference/kubectl/overview/#in-cluster-authentication-and-namespace-overrides)__\n",
    "\n",
    "For example:\n",
    "\n",
    "- `kubectl annotate` could be described via `.yaml` config for specific `type`\n",
    "- `kubectl create` should not be used, `kubectl apply` and declarative config files are prefferred\n",
    "\n",
    "## Core commands\n",
    "\n",
    "### apply\n",
    "\n",
    "> __Apply configuration change to a `resource`__\n",
    "\n",
    "Using this command, after starting `cluster` (e.g. with `minikube` for local development or `kubeadm` for real deployment) __we can configure the cluster according to our liking__.\n",
    "\n",
    "> This is the preferred way of managment\n",
    "\n",
    "Important flags we will often use:\n",
    "- `-R` - __recursively read `config` files within a directory__\n",
    "- `-f` - filename (__or directory, usually__) to read `config` from\n",
    "\n",
    "If you would like to use [`kustomize`](https://kustomize.io/) `-k` flag would also come in handy.\n",
    "\n",
    "### diff\n",
    "\n",
    "> __Check what changes will be applied to `cluster` DESIRED STATE__\n",
    "\n",
    "> ### One should always run this command before `apply`ing configuration!\n",
    "\n",
    "```bash\n",
    "kubectl diff -f -R FILENAME [flags]\n",
    "```\n",
    "\n",
    "Same flags are useful as in the `apply` case.\n",
    "\n",
    "### get\n",
    "\n",
    "> __List one or more resources__\n",
    "\n",
    "Allows us to get basic information about `k8s` objects.\n",
    "\n",
    "```bash\n",
    "kubectl get (-f FILENAME | TYPE [NAME | /NAME | -l label]) [--watch] [--sort-by=FIELD] [[-o | --output]=OUTPUT_FORMAT] [flags]\n",
    "```\n",
    "\n",
    "### describe\n",
    "\n",
    "> __Display state of one or more resources__\n",
    "\n",
    "Another important command, allows us to easily get an overview of the resource(s)\n",
    "\n",
    "```bash\n",
    "kubectl describe (-f FILENAME | TYPE [NAME_PREFIX | /NAME | -l label]) [flags]\n",
    "```\n",
    "\n",
    "As previously:\n",
    "- One can specify `file`(s) which describe desired state __in order to get the current one__\n",
    "- We can specify `TYPE`, `NAME` and other identifying resources for this command\n",
    "\n",
    "### top\n",
    "\n",
    "> __Displays resource usage of `Node`(s) or `POD`(s)__\n",
    "\n",
    "```bash\n",
    "kubectl top nodes\n",
    "```\n",
    "\n",
    "> For `top` to work with `minikube` (not `kubeadm`) please refer to [this StackOverflow answer](https://stackoverflow.com/a/52709663/10886420) and read more about __Metrics API__ if you find it insufficient\n",
    "\n",
    "## Helpful in debugging commands\n",
    "\n",
    "\n",
    "### attach\n",
    "\n",
    "> __Attach to specific running container to read it's `stdout` and/or interact with `stdin`__\n",
    "\n",
    "```bash\n",
    "kubectl attach POD -c CONTAINER [-i] [-t] [flags]\n",
    "```\n",
    "\n",
    "> Works just like `docker attach`, __useful for debugging__\n",
    "\n",
    "### cp\n",
    "\n",
    "> __Copy files from to/from containers__\n",
    "\n",
    "```bash\n",
    "kubectl cp <file-spec-src> <file-spec-dest> [options]\n",
    "```\n",
    "\n",
    "> Useful for debugging to disk output of container(s)\n",
    "\n",
    "### exec\n",
    "\n",
    "> __Exec command against `container` within `POD`__\n",
    "\n",
    "```bash\n",
    "kubectl exec POD [-c CONTAINER] [-i] [-t] [flags] [-- COMMAND [args...]]\n",
    "```\n",
    "\n",
    "> Useful for debugging container state"
   ]
  },
  {
   "cell_type": "markdown",
   "id": "4bc739e6",
   "metadata": {},
   "source": [
    "## Resources\n",
    "\n",
    "> One can specify different resources to query\n",
    "\n",
    "Usually these are `POD`s, `Node`s and `Volume`s but the list is obviously way larger.\n",
    "\n",
    "See [here](https://kubernetes.io/docs/reference/kubectl/overview/#resource-types) for all available resources"
   ]
  },
  {
   "cell_type": "markdown",
   "id": "6c90ae98",
   "metadata": {},
   "source": [
    "# Selectors\n",
    "\n",
    "## Field selectors\n",
    "\n",
    "> __We can select data based on various `fields` (like `status` or `metadata`)__\n",
    "\n",
    "They work essentially as filters, __we just have to specify `--field-selector` flag and appropriate arguments__:"
   ]
  },
  {
   "cell_type": "code",
   "execution_count": 9,
   "id": "1fdffb3a",
   "metadata": {
    "ExecuteTime": {
     "end_time": "2021-08-22T22:47:55.445942Z",
     "start_time": "2021-08-22T22:47:54.447959Z"
    }
   },
   "outputs": [
    {
     "name": "stdout",
     "output_type": "stream",
     "text": [
      "NAME                                READY   STATUS    RESTARTS   AGE\n",
      "nginx-deployment-66b6c48dd5-8z2j9   1/1     Running   1          5d1h\n",
      "nginx-deployment-66b6c48dd5-bd2lq   1/1     Running   1          5d1h\n",
      "nginx-deployment-66b6c48dd5-jv8zh   1/1     Running   1          5d1h\n",
      "\u001b[?2004h"
     ]
    },
    {
     "ename": "",
     "evalue": "1",
     "output_type": "error",
     "traceback": []
    }
   ],
   "source": [
    "kubectl get pods --field-selector status.phase==Running"
   ]
  },
  {
   "cell_type": "markdown",
   "id": "d1021442",
   "metadata": {},
   "source": [
    "We can use the following comparison operators:\n",
    "- `=` (or `==`, should be more readable)\n",
    "- `!=`\n",
    "\n",
    "__This is where `namespace`s are immensely useful__\n",
    "\n",
    "For example:"
   ]
  },
  {
   "cell_type": "code",
   "execution_count": 10,
   "id": "238519ba",
   "metadata": {
    "ExecuteTime": {
     "end_time": "2021-08-22T22:51:40.476534Z",
     "start_time": "2021-08-22T22:51:40.142639Z"
    }
   },
   "outputs": [
    {
     "name": "stdout",
     "output_type": "stream",
     "text": [
      "No resources found in default namespace.\n",
      "\u001b[?2004h"
     ]
    },
    {
     "ename": "",
     "evalue": "1",
     "output_type": "error",
     "traceback": []
    }
   ],
   "source": [
    "kubectl get services --field-selector metadata.namespace!=default"
   ]
  },
  {
   "cell_type": "markdown",
   "id": "707911b4",
   "metadata": {},
   "source": [
    "We can also chain our `field selector`s.\n",
    "\n",
    "> This means both selections are `AND`ed together"
   ]
  },
  {
   "cell_type": "code",
   "execution_count": null,
   "id": "bc7ed1ba",
   "metadata": {},
   "outputs": [],
   "source": [
    "kubectl get pods --field-selector=status.phase!=Running,spec.restartPolicy=Always"
   ]
  },
  {
   "cell_type": "markdown",
   "id": "a6ee93ed",
   "metadata": {},
   "source": [
    "Another option, for multiple resources:"
   ]
  },
  {
   "cell_type": "code",
   "execution_count": null,
   "id": "a2268cfd",
   "metadata": {},
   "outputs": [],
   "source": [
    "kubectl get statefulsets,services --all-namespaces --field-selector metadata.namespace!=default"
   ]
  },
  {
   "cell_type": "markdown",
   "id": "ab151f37",
   "metadata": {},
   "source": [
    "## Label selectors\n",
    "\n",
    "> Allows us to grab a set of objects via their defined `labels`\n",
    "\n",
    "Two types of selectors are available in this case:\n",
    "- `equality based` (similar to what we've seen above)\n",
    "- `set based` (__being one of__)\n",
    "\n",
    "First one, would be (`--selector` and `-l` are equivalent):"
   ]
  },
  {
   "cell_type": "code",
   "execution_count": null,
   "id": "a92f4f10",
   "metadata": {},
   "outputs": [],
   "source": [
    "kubectl get pods --selector environment=production,tier=frontend"
   ]
  },
  {
   "cell_type": "markdown",
   "id": "a4af9927",
   "metadata": {},
   "source": [
    "and it's `set` counterpart (__we can add more `labels` for matching within `()` brackets!__):"
   ]
  },
  {
   "cell_type": "code",
   "execution_count": null,
   "id": "a13b1bcf",
   "metadata": {},
   "outputs": [],
   "source": [
    "kubectl get pods -l 'environment in (production),tier in (frontend)'"
   ]
  },
  {
   "cell_type": "markdown",
   "id": "98cd04b5",
   "metadata": {},
   "source": [
    "Negative matching is also supported (all `environments` __except__ `frontend`):"
   ]
  },
  {
   "cell_type": "code",
   "execution_count": null,
   "id": "ad9c8c3f",
   "metadata": {},
   "outputs": [],
   "source": [
    "kubectl get pods -l 'environment,environment notin (frontend)'"
   ]
  },
  {
   "cell_type": "markdown",
   "id": "98ace26a",
   "metadata": {},
   "source": [
    "## Cheat-sheet\n",
    "\n",
    "> `k8s` provides cheat sheets for common tasks and apps one can use\n",
    "\n",
    "One can find them [here](https://kubernetes.io/docs/reference/kubectl/cheatsheet/#kubectl-context-and-configuration)\n",
    "\n",
    "> ### Take 10 minutes to go through this list and make sure you understand __all of the options__\n",
    "\n",
    "(if not, check `--help` of specific `kubectl` commands, __if this doesn't help ask the instructor!__)"
   ]
  },
  {
   "cell_type": "markdown",
   "id": "7ef786ef",
   "metadata": {},
   "source": [
    "# Challenges\n",
    "\n",
    "## Mandatory\n",
    "\n",
    "- Configure autocompletion using `kubectl completion` and putting the contents inside your `.bashrc` (or `.zshrc` or other shell respective config). Check out [this guide](https://kubernetes.io/docs/reference/kubectl/cheatsheet/#kubectl-autocomplete) if you need help.\n",
    "- Check out [Set References API](https://kubernetes.io/docs/concepts/overview/working-with-objects/labels/#set-references-in-api-objects). What these are, why are they useful?\n",
    "\n",
    "## Additional\n",
    "\n",
    "- Check out how [`kubectl`](https://kubernetes.io/docs/reference/kubectl/overview/#in-cluster-authentication-and-namespace-overrides) chooses namespaces and determines it's location\n",
    "- How to configure output of `kubectl` according to our liking? Check [this section](https://kubernetes.io/docs/reference/kubectl/overview/#output-options) for more information\n",
    "- Create appropriate aliases for common `kubectl` operations"
   ]
  }
 ],
 "metadata": {
  "kernelspec": {
   "display_name": "Bash [conda env:.conda-AiCore] *",
   "language": "bash",
   "name": "conda-env-.conda-AiCore-bash"
  },
  "language_info": {
   "codemirror_mode": "shell",
   "file_extension": ".sh",
   "mimetype": "text/x-sh",
   "name": "bash"
  }
 },
 "nbformat": 4,
 "nbformat_minor": 5
}
