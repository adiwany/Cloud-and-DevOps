{
 "cells": [
  {
   "cell_type": "markdown",
   "id": "a92dadd7",
   "metadata": {},
   "source": [
    "# Namespaces\n",
    "\n",
    "> __Namespaces are virtual clusters within physical cluster__\n",
    "\n",
    "When should we use them?\n",
    "- __`Namespaces` should be used for most of our tasks and should group SEMANTICALLY SIMILAR `k8s` objects__\n",
    "- Many users, tasks and projects spread within one cluster\n",
    "- Many teams working in the same cluster (each has their own namespace)\n",
    "\n",
    "In general they work similar (and have similar benefits) to:\n",
    "- Python modules\n",
    "- C++ namespaces\n",
    "\n",
    "And they follow similar rules (almost):\n",
    "- Names have to be unique __within namespace__\n",
    "- __Cannot be arbitrarily nested__ (only a single `namespace` allowed)\n",
    "- Resource can only be located __within one namespace__\n",
    "\n",
    "What we shouldn't use them for?\n",
    "- Separating slightly different resources (e.g. different software versions), __use `labels` for that__\n",
    "\n",
    "## Defining & using namespaces\n",
    "\n",
    "`.yaml` is what we do (__try to keep EVERYTHING codified with `k8s`__):"
   ]
  },
  {
   "cell_type": "code",
   "execution_count": null,
   "id": "c6b0a26a",
   "metadata": {},
   "outputs": [],
   "source": [
    "apiVersion: v1\n",
    "kind: Namespace\n",
    "metadata:\n",
    "  name: my-namespace"
   ]
  },
  {
   "cell_type": "markdown",
   "id": "a956bc8d",
   "metadata": {},
   "source": [
    "After that, we can create objects which will be grouped under our `namespace`:"
   ]
  },
  {
   "cell_type": "code",
   "execution_count": null,
   "id": "c320a18e",
   "metadata": {},
   "outputs": [],
   "source": [
    "apiVersion: apps/v1\n",
    "kind: DaemonSet\n",
    "metadata:\n",
    "  name: fluentd-elasticsearch\n",
    "  namespace: my-namespace\n",
    "..."
   ]
  },
  {
   "cell_type": "markdown",
   "id": "de5271c8",
   "metadata": {},
   "source": [
    "# Labels\n",
    "\n",
    "> Labels are `(key, value)` pairs which provide semantic information about our `object`\n",
    "\n",
    "These should be:\n",
    "- meaningful to users __and/or__ meaningful to __third party programs using them__\n",
    "- identify uniquely our object\n",
    "- __should not describe semantics of the whole system__\n",
    "\n",
    "Defining them is even simpler than `namespaces`:"
   ]
  },
  {
   "cell_type": "code",
   "execution_count": null,
   "id": "bff36e89",
   "metadata": {},
   "outputs": [],
   "source": [
    "apiVersion: apps/v1\n",
    "kind: DaemonSet\n",
    "metadata:\n",
    "  name: fluentd-elasticsearch\n",
    "  namespace: kube-system\n",
    "  labels:\n",
    "    k8s-app: fluentd-logging\n",
    "    another-label: my-label-value"
   ]
  },
  {
   "cell_type": "markdown",
   "id": "533b644d",
   "metadata": {},
   "source": [
    "So, is there any set of `labels` one should define?\n",
    "\n",
    "## Kubernetes recommended labels\n",
    "\n",
    "> Recommended `labels` are centered around the concept of `app`\n",
    "\n",
    "One __should__ include them for all `app`s because:\n",
    "- allows tooling to work with our data\n",
    "- helps during queries (`kubectl`)\n",
    "\n",
    "Let's see an example:"
   ]
  },
  {
   "cell_type": "code",
   "execution_count": null,
   "id": "da8e2c9a",
   "metadata": {},
   "outputs": [],
   "source": [
    "apiVersion: apps/v1\n",
    "kind: StatefulSet\n",
    "metadata:\n",
    "  labels:\n",
    "    # Name of application\n",
    "    app.kubernetes.io/name: mysql\n",
    "    # Unique name identifying instance of application\n",
    "    app.kubernetes.io/instance: mysql-abcxzy\n",
    "    # Current version of application\n",
    "    app.kubernetes.io/version: \"5.7.21\"\n",
    "    # Which component is it in the whole architecture?\n",
    "    app.kubernetes.io/component: database\n",
    "    # Name of higher-level app this one is part of\n",
    "    app.kubernetes.io/part-of: wordpress\n",
    "    # Software managing this application\n",
    "    app.kubernetes.io/managed-by: helm\n",
    "    # Controller/user which created this app\n",
    "    app.kubernetes.io/created-by: controller-manager"
   ]
  },
  {
   "cell_type": "markdown",
   "id": "858dfd76",
   "metadata": {},
   "source": [
    "Nice example of application using these `labels` can be seen [here](https://kubernetes.io/docs/concepts/overview/working-with-objects/common-labels/#web-application-with-a-database)\n",
    "\n",
    "> ### Let's go through the above to get a better understanding of what we are doing"
   ]
  },
  {
   "cell_type": "markdown",
   "id": "7625a03b",
   "metadata": {},
   "source": [
    "## What can we do with namespaces and labels?\n",
    "\n",
    "We will see that mostly during `kubectl` lesson, but in general:\n",
    "- Check `POD`s based on `namespace` and/or `labels`\n",
    "- Integrate third party systems based on \"standard\" set of labels\n",
    "- Use `dashboard` and slice based on these descriptions\n",
    "\n",
    "Keep this in mind before next lesson!"
   ]
  },
  {
   "cell_type": "markdown",
   "id": "f6ab642c",
   "metadata": {},
   "source": [
    "# Challenges\n",
    "\n",
    "## Mandatory\n",
    "\n",
    "- What are [`annotations`](https://kubernetes.io/docs/concepts/overview/working-with-objects/annotations/) and how are they different from `labels`?\n",
    "\n",
    "## Additional\n",
    "\n",
    "- What are [`finalizers`](https://kubernetes.io/docs/concepts/overview/working-with-objects/finalizers/)?\n",
    "- Which objects own another ones in `k8s` (for example `Deployment` owning `POD`s)? Check [here](https://kubernetes.io/docs/concepts/overview/working-with-objects/owners-dependents/) for better understanding"
   ]
  }
 ],
 "metadata": {
  "kernelspec": {
   "display_name": "Python 3 (ipykernel)",
   "language": "python",
   "name": "python3"
  },
  "language_info": {
   "codemirror_mode": {
    "name": "ipython",
    "version": 3
   },
   "file_extension": ".py",
   "mimetype": "text/x-python",
   "name": "python",
   "nbconvert_exporter": "python",
   "pygments_lexer": "ipython3",
   "version": "3.9.6"
  }
 },
 "nbformat": 4,
 "nbformat_minor": 5
}
