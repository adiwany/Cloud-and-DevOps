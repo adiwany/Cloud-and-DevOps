{
 "cells": [
  {
   "cell_type": "markdown",
   "metadata": {},
   "source": [
    "# AWS Lambda"
   ]
  },
  {
   "cell_type": "markdown",
   "metadata": {},
   "source": [
    "> AWS Lambda is a serverless computing service allowing you to run code in response to events without having to manage backend servers, runtimes, create workload aware cluster logic or maintain event integrations. Allowing you to run code for any type of application or backend service with zero administration.\n",
    "\n",
    "</br>\n",
    "\n",
    "### Benefits\n",
    "\n",
    "* **No severs to manage:** Lambda automatically runs your code without intervention.\n",
    "* **Continuous scaling:** Lambda automatically scales you applicaiton and runs in response to each event.\n",
    "* **Cost optimisation** down to the millisecond.\n",
    "* **Millisecond response times** and optimised memory allocation.\n",
    "* Comes with **1 million free requests** a month with AWS.\n"
   ]
  },
  {
   "cell_type": "markdown",
   "metadata": {},
   "source": [
    "## What is a Lambda function?\n",
    "\n",
    "The code run that will execute on the AWS Service is called a Lambda function, once created it will always be avaliable to run once it's triggered. Each function you create will have the code as well as the associated configuration information required for the function to run. Allowing each function to be **stateless**, meaning it's a self contained function without external dependencies. This allows you to launch as multiple copies of the function that may be required to keep up with incoming requests and events.\n",
    "\n",
    "These functions can also be easily integrated with specific AWS resources such as: Amazon S3, API Gateway, Lex or Cognito and even call other Lambda functions! When there is a change to the resource you can configure the function to execute adding extra functionality to the resource.\n",
    "\n",
    "### Key Features \n",
    "\n",
    "* **Extend the logic of other AWS resources:** When there is a change to your resource such as an Amazon S3 bucket you can configure the Lambda function to execute, managing the incoming data.\n",
    "* **Develop your own code** With Lamabda there are no new languages or tools to learn. You can use any third party libraries and even package (frameworks, SDKs,libaries and more) into a Lambda layer. Currently Lambda natively supports Java, Go, Powershell, Node.js, C#, Python and Ruby.\n",
    "* **Zero administration** Lambda mananges all the infastruture for you on a highly fault tolerant infastructure allowing you to focus on building services.\n",
    "* **Highly Scalable** Lambda functions are only run when needed so will only run at the rate of incoming requests without any configuration. It will run the function within milliseconds of an event and only execute for the required time to fufill the requests down to the millisecond. "
   ]
  },
  {
   "cell_type": "markdown",
   "metadata": {},
   "source": [
    "## Getting started with Lambda Functions"
   ]
  },
  {
   "cell_type": "markdown",
   "metadata": {},
   "source": [
    "Log into the AWS Services management console and open the AWS Lambda dashboard, you should be meet with AWS Lambda landing dashboard.\n",
    "\n",
    "## AWS Lambda dashboard\n",
    "\n",
    "![Lambda Dashboard](images/lambda_dashboard.PNG)\n"
   ]
  },
  {
   "cell_type": "markdown",
   "metadata": {},
   "source": [
    "We can see on the left hand side of the dashboard the options for creating applications, functions and Lambda Layers. In the top right corner you can see the option to create a lambda function directly from the dashboard with the logging metrics are displayed below.\n",
    "\n",
    "Let's firstly open the functions dashboard by clicking functions on the left hand side. \n",
    "\n",
    "## Functions dashboard\n",
    "![](images/functions_dashboard.png)"
   ]
  },
  {
   "cell_type": "markdown",
   "metadata": {},
   "source": [
    "The functions dashboard allows us to get an overview of all created Lambda functions, their runtimes and size. Let's create a new Lambda function, now click the Create function button which will open the function creation dashboard. \n",
    "\n",
    "## Creating a function dashboard \n",
    "![](images/create_function_dashboard.png)"
   ]
  },
  {
   "cell_type": "markdown",
   "metadata": {},
   "source": [
    "The function creation dashboard allows the creation of the many types of Lambda functions some are prebuilt and packaged for you by AWS. Have a browse through the prebuilt packages offered by AWS by in the **Use a blueprint** and **Browse serverless app repository** options. These options can be great if you want to quickly deploy a commonly used function such as logging changes to a DynamoDB or retrieving meta data from an updated S3 object.\n",
    "\n",
    "To begin with we will create a simple Lambda function from scratch, select the **Author from scratch** option and name the function hello_world, under Runtime select Python 3.8. Leave the permissions as default and the Advanced Settings as well. The click create function(bottom right). You will then be presented with the function editor dashboard where you can modified your code.\n",
    "\n",
    "## Function editor dashboard\n",
    "\n",
    "![](images/function_editor.png)\n"
   ]
  },
  {
   "cell_type": "markdown",
   "metadata": {},
   "source": [
    "From the function editor dashboard we can edit our functions code, test, deploy, configure and create triggers to run our functions. First let's analyse our Lambda function to understand how the **lambda_handler** is defined.\n",
    "\n",
    "## The Lambda Handler\n",
    "\n",
    "### How it works"
   ]
  },
  {
   "cell_type": "code",
   "execution_count": null,
   "metadata": {},
   "outputs": [],
   "source": [
    "#This is the general syntax to define a Lambda function handler.\n",
    "\n",
    "# def handler_name(event, context): \n",
    "#      ...\n",
    "#     return some_value"
   ]
  },
  {
   "cell_type": "markdown",
   "metadata": {},
   "source": [
    "The lambda function handler is the method in your code that processes the events sent to your lambda function. Once the handler is executed and returns a response or exits the handler becomes avaliable to handle another event.\n"
   ]
  },
  {
   "cell_type": "code",
   "execution_count": null,
   "metadata": {},
   "outputs": [],
   "source": [
    "# Our current event handler function\n",
    "\n",
    "import json\n",
    "\n",
    "def lambda_handler(event, context):\n",
    "    # TODO implement\n",
    "    return {\n",
    "        'statusCode': 200,\n",
    "        'body': json.dumps('Hello from Lambda!')\n",
    "}"
   ]
  },
  {
   "cell_type": "markdown",
   "metadata": {},
   "source": [
    "When the function invokes the event handler the runtime passes two arguments to function handler **event** and **context**. \n",
    "\n",
    "* The first argument **event** takes in an **event object** which is a JSON-formatted document containing the data for your function to process. When you function is run the runtime converts the event to an event object and passes it to the function handler, usually defined as a Python **dict** object. If your function invokes an AWS service then the service will configure the event object for you when invoking the function. <br></br>\n",
    "  \n",
    "* The **context object** provides the function with the methods and properties that provide information about invoking the function and runtime environment."
   ]
  },
  {
   "cell_type": "markdown",
   "metadata": {},
   "source": [
    "### Naming the handler\n",
    "\n",
    "> The name of your handler function is initialised as the name of the file your function resides in and the name of the Python handler function **lambda_handler(default)**. So in our the lambda handler is defined as **lambda_function.lambda_handler**."
   ]
  },
  {
   "cell_type": "markdown",
   "metadata": {},
   "source": [
    "The handler name can be change by going to **Runtime settings > Edit**, let's change the handlers name to something more appropriate for our function. Go to the edit runtime page and change the handlers name to **lambda_function.hello_handler** and save. Then we will need to change the handler function name in the code editor. Once edited redeploy the Lambda function using the **Deploy** button to implement the changes."
   ]
  },
  {
   "cell_type": "code",
   "execution_count": null,
   "metadata": {},
   "outputs": [],
   "source": [
    "# Change the handler function name to hello_handler\n",
    "\n",
    "import json\n",
    "\n",
    "def hello_handler(event, context): \n",
    "    # TODO implement\n",
    "    return {\n",
    "        'statusCode': 200,\n",
    "        'body': json.dumps('Hello from Lambda!')\n",
    "}"
   ]
  },
  {
   "cell_type": "markdown",
   "metadata": {},
   "source": [
    "## Testing your first Lambda function"
   ]
  },
  {
   "cell_type": "markdown",
   "metadata": {},
   "source": [
    "We will now create a test event to test the function is running as intended. Click the **test** button to create a new test event for our function, note that we can have up to 10 test events per function. Create a new test event and select hello-world as the event template and name the event **name_announcer**."
   ]
  },
  {
   "cell_type": "code",
   "execution_count": null,
   "metadata": {},
   "outputs": [],
   "source": [
    "#AWS provides us with this default hello-world template\n",
    "\n",
    "{\n",
    "  \"key1\": \"value1\",\n",
    "  \"key2\": \"value2\",\n",
    "  \"key3\": \"value3\"\n",
    "}"
   ]
  },
  {
   "cell_type": "markdown",
   "metadata": {},
   "source": [
    "Let's edit the template to product the result we want."
   ]
  },
  {
   "cell_type": "code",
   "execution_count": null,
   "metadata": {},
   "outputs": [],
   "source": [
    "# Change the keys and values values appropriate to you\n",
    "\n",
    "{\n",
    "  \"First_name\": \"Spongebob\",\n",
    "  \"Last_name\": \"Square pants\",\n",
    "  \"Age\": 20\n",
    "}"
   ]
  },
  {
   "cell_type": "markdown",
   "metadata": {},
   "source": [
    "Now save the test event and configure the lambda function to announce ourselves to the world!"
   ]
  },
  {
   "cell_type": "code",
   "execution_count": null,
   "metadata": {},
   "outputs": [],
   "source": [
    "# Remember the event argument is the argument passing the data into the function handler\n",
    "# so we can reference the items in this dict object to get the required message.\n",
    "\n",
    "import json\n",
    "\n",
    "def hello_handler(event, context):\n",
    "    message = (f'Hello World, my name is {event[\"First_name\"]} {event[\"Last_name\"]} and my age is {event[\"Age\"]}')\n",
    "    return {\n",
    "         'message' : message\n",
    "    }\n"
   ]
  },
  {
   "cell_type": "markdown",
   "metadata": {},
   "source": [
    "Redeploy the function to update the changes then run the test, if the function executed correctly you should get an output similar to. \n",
    "\n",
    "![](images/name_announcer_output.png)"
   ]
  },
  {
   "cell_type": "markdown",
   "metadata": {},
   "source": [
    "Note that the status is succeeded and we get information on the amount of memory used and how long our function took to execute down to the millisecond!"
   ]
  },
  {
   "cell_type": "markdown",
   "metadata": {},
   "source": [
    "## Containerising your Lambda function"
   ]
  },
  {
   "cell_type": "markdown",
   "metadata": {},
   "source": [
    "### Creating a Lambda Function Docker Image"
   ]
  },
  {
   "cell_type": "markdown",
   "metadata": {},
   "source": [
    "Now that we have built our first Lambda function lets now run it in a container using Docker. Running your function in a container can be benefical, by creating a container for our function it will already have the nessecary dependencies installed without having to create a Lambda layer. Create a new project folder in your IDE and name it **Lambda_container**, inside create a new file **hello_cont.py**. Update the function so that it has a dependancy on pandas to sum a series. "
   ]
  },
  {
   "cell_type": "code",
   "execution_count": null,
   "metadata": {},
   "outputs": [],
   "source": [
    "# Add the our Lambda function to hello_cont.py\n",
    "\n",
    "import json\n",
    "import pandas as pd\n",
    "\n",
    "\n",
    "\n",
    "def hello_handler(event, context):\n",
    "    message = (f'Hello World, my name is {event[\"First_name\"]} {event[\"Last_name\"]} and my age is {event[\"Age\"]}')\n",
    "    # sum a series which depends on pandas\n",
    "    sum_a_series = sum(pd.Series[3,4,5,7])\n",
    "    return {\n",
    "         'message' : message,\n",
    "         # display the summed series\n",
    "         \"body\" : json.dumps(f\"This is the sum of our Pandas series: {sum_a_series}\")\n",
    "    }\n"
   ]
  },
  {
   "cell_type": "markdown",
   "metadata": {},
   "source": [
    "Now create a new Dockerfile in the project folder and add the following dockerfile code."
   ]
  },
  {
   "cell_type": "code",
   "execution_count": null,
   "metadata": {},
   "outputs": [],
   "source": [
    "FROM public.ecr.aws/lambda/python:3.8\n",
    "\n",
    "# Copy function code\n",
    "COPY hello_cont.py ${LAMBDA_TASK_ROOT}\n",
    "\n",
    "# Install the function's dependencies using file requirements.txt\n",
    "# from your project folder.\n",
    "\n",
    "COPY requirements.txt  .\n",
    "RUN  pip install -r requirements.txt --target \"${LAMBDA_TASK_ROOT}\"\n",
    "\n",
    "# Set the CMD to your handler (could also be done as a parameter override outside of the Dockerfile)\n",
    "CMD [ \"hello_cont.hello_handler\" ]"
   ]
  },
  {
   "cell_type": "code",
   "execution_count": null,
   "metadata": {},
   "outputs": [],
   "source": [
    "# Export your requirements.txt to the project folder using the pip freeeze command.\n",
    "# Run in your terminal \n",
    "pip freeze > requirements.txt"
   ]
  },
  {
   "cell_type": "markdown",
   "metadata": {},
   "source": [
    "### Uploading an image to Amazon Elastic Cloud Registry(ECR)"
   ]
  },
  {
   "cell_type": "markdown",
   "metadata": {},
   "source": [
    "Now we have our Dockerfile setup we can begin to get it uploaded AWS, the store on AWS for storing Docker images is the Elastic Container Registry(ECR), this is where we need to push our Docker container to. Go to the ECR service on AWS then **Create repository**.<br></br>\n",
    "\n",
    "![](images/create_repo.png)"
   ]
  },
  {
   "cell_type": "markdown",
   "metadata": {},
   "source": [
    "Name your repository hello_handler set it to private and leave all other options as default, now we need to login to the ECR service from the terminal and push our image to the repo. Luckily we don't have to remember these commands as they are provided for us by AWS, on the ECR dashboard select the repo and click the **View push commands** button. \n",
    "\n",
    "![](images/ECR_repo_dash.png)"
   ]
  },
  {
   "cell_type": "markdown",
   "metadata": {},
   "source": [
    "You will be met with a popup giving you the commands to authenticate Docker with ECR, build your image, tag the image and upload the image file to ECR. Below you can see the general structure of of the commands and how they are used. Copy and run the commands from the **Push commands** window to build and upload our image.  "
   ]
  },
  {
   "cell_type": "code",
   "execution_count": null,
   "metadata": {},
   "outputs": [],
   "source": [
    "# Replace the appropriate values with the values associated with your account.\n",
    "# Note that the AWS user ID is a string of numbers it is shown in the image above\n",
    "# when creating a repository\n",
    "\n",
    "aws ecr get-login-password --region {\"Your AWS Region\"} | docker login --username AWS --password-stdin {\"Your AWS user ID\"}.dkr.ecr.{\"Your AWS Region\"}.amazonaws.com"
   ]
  },
  {
   "cell_type": "code",
   "execution_count": null,
   "metadata": {},
   "outputs": [],
   "source": [
    "# Building your Docker image\n",
    "\n",
    "docker build -t {\"image name\"} ."
   ]
  },
  {
   "cell_type": "code",
   "execution_count": null,
   "metadata": {},
   "outputs": [],
   "source": [
    "#Tagging your image so it can be pushed\n",
    "\n",
    "docker tag {\"image name\"}:{\"Tag\"} {\"Your AWS user ID\"}.dkr.ecr.{\"Your AWS Region\"}.amazonaws.com/{\"Image name\"}:{\"Tag\"}"
   ]
  },
  {
   "cell_type": "code",
   "execution_count": null,
   "metadata": {},
   "outputs": [],
   "source": [
    "# Pushing your image to a repo\n",
    "# If you remove tag then the image tag will default to latest.\n",
    "\n",
    "docker push {\"AWS user ID\"}.dkr.ecr.{\"Your region\"}.amazonaws.com/{\"Your repository name\"}:{\"Tag\"}"
   ]
  },
  {
   "cell_type": "markdown",
   "metadata": {},
   "source": [
    "### Creating and Testing the Image"
   ]
  },
  {
   "cell_type": "markdown",
   "metadata": {},
   "source": [
    "Now that we have our image on ECR we can build the Lambda function from it, go back to your Lambda dashboard and create a new function. Select container image from the avaliable options. Name your function **hello_handler_cont** and select **Browse images** then select your image from the avaliable dropdown and close with **Select image**, finishing creating the function. \n",
    "\n",
    "Notice on the function dashboard there is no code editor since we have packaged our function into an image.<br></br> \n",
    "\n",
    "![](images/image_func_dash.png)"
   ]
  },
  {
   "cell_type": "markdown",
   "metadata": {},
   "source": [
    "Select the **Test** tab, create a new test as before and name it **Cont_image_test**. Go to the **Test** tab and add our test case just as before."
   ]
  },
  {
   "cell_type": "code",
   "execution_count": null,
   "metadata": {},
   "outputs": [],
   "source": [
    "{\n",
    "  \"First_name\": \"Spongebob\",\n",
    "  \"Last_name\": \"Square pants\",\n",
    "  \"Age\": 20\n",
    "}"
   ]
  },
  {
   "cell_type": "markdown",
   "metadata": {},
   "source": [
    "Now run the test, notice the execution result is now displayed above the **Test event** window. Click the dropdown **Details** and you should get results similar to.\n",
    "\n",
    "![](images/cont_results.png)"
   ]
  },
  {
   "cell_type": "markdown",
   "metadata": {},
   "source": [
    "Congratulations, you now know how to deploy a Lambda function in a container to AWS!"
   ]
  },
  {
   "cell_type": "markdown",
   "metadata": {},
   "source": [
    "## Lambda Layers"
   ]
  },
  {
   "cell_type": "markdown",
   "metadata": {},
   "source": [
    "So far we have created a simple Lambda function that has no additional dependencies but what if we want to run a function that requires an additional library at runtime. We can do this by creating a **Lambda layer**. Lambda layers allow the use of third party libraries and dependencies in your Lambda function, each function can depend on up to 5 layers. Let's change our current function so that it depends on the Python requests package."
   ]
  },
  {
   "cell_type": "code",
   "execution_count": 14,
   "metadata": {},
   "outputs": [],
   "source": [
    "# importing the requests package so our function depends on it\n",
    "# and get a request from the pokedex website\n",
    "\n",
    "import json\n",
    "import requests as r\n",
    "\n",
    "def hello_handler(event, context):\n",
    "    message = (f'Hello World, my name is {event[\"First_name\"]} {event[\"Last_name\"]} and my age is {event[\"Age\"]}.')\n",
    "    response = r.get(\"https://www.pokemon.com/uk/pokedex/\")\n",
    "    return {\n",
    "         'message' : message,\n",
    "          # display the requests response\n",
    "         \"body\" : json.dumps(f\"The result of the response request was: {response}\")\n",
    "    }\n"
   ]
  },
  {
   "cell_type": "markdown",
   "metadata": {},
   "source": [
    "Now we need to package the requests library in a specfic format that AWS understands, the specific structure of the Lambda layer can be found [here](https://docs.aws.amazon.com/lambda/latest/dg/configuration-layers.html). Create a new directory named **python** where we will store the dependencies."
   ]
  },
  {
   "cell_type": "code",
   "execution_count": null,
   "metadata": {},
   "outputs": [],
   "source": [
    "# run in your terminal\n",
    "\n",
    "cd python         # change to your python directory\n",
    "pip install -t . requests    # Use the -t flag to install dependencies to this folder\n",
    "rm -r *dist-info __pycache__ # remove unnecessary files"
   ]
  },
  {
   "cell_type": "code",
   "execution_count": null,
   "metadata": {},
   "outputs": [],
   "source": [
    "# run in terminal\n",
    "zip -r layer.zip python"
   ]
  },
  {
   "cell_type": "markdown",
   "metadata": {},
   "source": [
    "Now we have the required zip file it needs to be uploaded to AWS. Go to your Lambda dashboard then the **layers section > create layer**. Name the new layer **requests_test** and add the python runtimes for your function, note you can have upto 15 runtimes per layer. Finish creating the layer and it will now be avaliable for use.<br></br>\n",
    "\n",
    "![](images/lambda_create_layer.png)"
   ]
  },
  {
   "cell_type": "markdown",
   "metadata": {},
   "source": [
    "Go back to our function **hello_world** and update the the code to import requests and get a response from the Pokedex website. Now we just need to add the layer to the function before deploying it. Below the code editor you should see the **Layers** section go to **add a layer**. \n",
    "\n",
    "![](images/add_layer.png)"
   ]
  },
  {
   "cell_type": "markdown",
   "metadata": {},
   "source": [
    "Select **Custom layers** and select the requests_test layer your created from the dropdown and the associated version and add the layer. Now redepoy the code and test the function, you should get the result.\n",
    "\n",
    "![](images/layer_results.png)"
   ]
  },
  {
   "cell_type": "markdown",
   "metadata": {},
   "source": [
    "This is the result we expected the Pokedex website is returning response 200 which is a success response and the message is still being printed. Now we know how to add layers to our Pandas function to add extra functionality. "
   ]
  },
  {
   "cell_type": "markdown",
   "metadata": {},
   "source": [
    "## Summary\n",
    "\n",
    "* You learn what a Lambda function is and it's uses.\n",
    "* You learned how to navigte the Lambda function dashboard.\n",
    "* We have create our first Lambda function.\n",
    "* Learned how to containerise your Lambda functions with addtional dependencies.\n",
    "* Create layers for our Lambda function to add extra functionality. "
   ]
  }
 ],
 "metadata": {
  "interpreter": {
   "hash": "66a4c1a82e4b740877da9482796a67c3d19e50649dddfb2985c1182127ae3fd0"
  },
  "kernelspec": {
   "display_name": "Python 3.8.11 64-bit ('base': conda)",
   "name": "python3"
  },
  "language_info": {
   "codemirror_mode": {
    "name": "ipython",
    "version": 3
   },
   "file_extension": ".py",
   "mimetype": "text/x-python",
   "name": "python",
   "nbconvert_exporter": "python",
   "pygments_lexer": "ipython3",
   "version": "3.8.11"
  },
  "orig_nbformat": 4
 },
 "nbformat": 4,
 "nbformat_minor": 2
}
